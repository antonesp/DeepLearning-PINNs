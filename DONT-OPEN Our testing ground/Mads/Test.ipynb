{
 "cells": [
  {
   "cell_type": "code",
   "execution_count": 1,
   "metadata": {},
   "outputs": [],
   "source": [
    "import pandas as pd\n",
    "import torch\n",
    "import numpy as np\n",
    "\n",
    "# Now you can import the function\n",
    "from Load_data2 import custom_csv_parser\n",
    "# Use the function\n",
    "\n"
   ]
  },
  {
   "cell_type": "code",
   "execution_count": 2,
   "metadata": {},
   "outputs": [
    {
     "data": {
      "text/plain": [
       "dict_keys(['Meal_size', 'Steady_insulin', 'Bolus', 'D1', 'D2', 'I_sc', 'I_p', 'I_eff', 'G', 'G_sc'])"
      ]
     },
     "execution_count": 2,
     "metadata": {},
     "output_type": "execute_result"
    }
   ],
   "source": [
    "device = 'cpu'\n",
    "# Load data and pre-process\n",
    "data = custom_csv_parser('../Patient2.csv')\n",
    "n_data = len(data[\"G\"])\n",
    "\n",
    "# Split data into training and validation\n",
    "torch.manual_seed(42)\n",
    "\n",
    "indices = torch.randperm(n_data)\n",
    "\n",
    "n_train = int(n_data * 0.01)   # 1% training data\n",
    "\n",
    "train_indices = indices[:n_train]\n",
    "val_indices = indices[n_train:]\n",
    "\n",
    "# Define  \n",
    "T = 300\n",
    "num_train_col = 1000\n",
    "\n",
    "t_data = torch.linspace(0, T, n_data, device=device)\n",
    "t_train_data = t_data[train_indices].reshape(-1, 1)\n",
    "t_val_data = t_data[val_indices].reshape(-1, 1)\n",
    "\n",
    "# Split the data dictionary \n",
    "data_train = {}\n",
    "data_val = {}\n",
    "\n",
    "data.keys()\n",
    "\n",
    "# for key in data.keys():\n",
    "#     data_tensor = torch.tensor(data[key], device=device)  # Ensure data is a tensor\n",
    "#     range = max(data_tensor) - min(data_tensor)\n",
    "#     if range == 0:\n",
    "#         range = 1\n",
    "#     data_tensor = (data_tensor - min(data_tensor)) / range\n",
    "#     data_train[key] = data_tensor[train_indices]\n",
    "#     data_val[key] = data_tensor[val_indices]"
   ]
  },
  {
   "cell_type": "code",
   "execution_count": 16,
   "metadata": {},
   "outputs": [
    {
     "name": "stdout",
     "output_type": "stream",
     "text": [
      "tensor(0.6942)\n",
      "tensor(1.0000)\n",
      "tensor(0.7045)\n",
      "tensor(0.9996)\n",
      "tensor(0.9998)\n",
      "tensor(0.9992)\n",
      "tensor(0.9998)\n"
     ]
    }
   ],
   "source": [
    "device = 'cpu'\n",
    "# Load data and pre-process\n",
    "data = custom_csv_parser('../Patient2.csv')\n",
    "n_data = len(data[\"G\"])\n",
    "\n",
    "# Split data into training and validation\n",
    "torch.manual_seed(42)\n",
    "\n",
    "indices = torch.randperm(n_data)\n",
    "# Use sequential indices for training and validation\n",
    "# train_indices = torch.arange(0, n_train)\n",
    "# val_indices = torch.arange(n_train, n_data)\n",
    "\n",
    "n_train = int(n_data * 0.01)   # 80% training data\n",
    "\n",
    "train_indices = indices[:n_train]\n",
    "val_indices = indices[n_train:]\n",
    "\n",
    "# Define  \n",
    "T = 300\n",
    "\n",
    "t_data = torch.linspace(0, T, n_data, device=device)\n",
    "t_train_data = t_data[train_indices].reshape(-1, 1)\n",
    "t_val_data = t_data[val_indices].reshape(-1, 1)\n",
    "\n",
    "keys = ['D1', 'D2', 'I_sc', 'I_p', 'I_eff', 'G', 'G_sc']\n",
    "means = {}\n",
    "train = {}\n",
    "data_min = {}\n",
    "data_max = {}\n",
    "\n",
    "for key in keys:\n",
    "    data_tensor = torch.tensor(data[key])\n",
    "    # train[key] = data_tensor\n",
    "    # means[key] = data_tensor.mean()\n",
    "    min_val = data_tensor.min()\n",
    "    max_val = data_tensor.max()\n",
    "    data_min[key] = min_val\n",
    "    data_max[key] = max_val\n",
    "    train[key] = (data_tensor[train_indices] - min_val) / (max_val - min_val)\n",
    "    # data_val[key] = (data_tensor[val_indices] - min_val) / (max_val - min_val)\n",
    "\n",
    "train_scaled = {}\n",
    "\n",
    "for key in keys:\n",
    "    # train_scaled[key] = train[key] / means[key]\n",
    "    train_scaled[key] = train[key] \n",
    "    print(train_scaled[key].max())"
   ]
  }
 ],
 "metadata": {
  "kernelspec": {
   "display_name": "Python 3",
   "language": "python",
   "name": "python3"
  },
  "language_info": {
   "codemirror_mode": {
    "name": "ipython",
    "version": 3
   },
   "file_extension": ".py",
   "mimetype": "text/x-python",
   "name": "python",
   "nbconvert_exporter": "python",
   "pygments_lexer": "ipython3",
   "version": "3.12.6"
  }
 },
 "nbformat": 4,
 "nbformat_minor": 2
}
