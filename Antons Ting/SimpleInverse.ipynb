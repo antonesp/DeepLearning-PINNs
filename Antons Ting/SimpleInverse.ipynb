{
 "cells": [
  {
   "cell_type": "code",
   "execution_count": 145,
   "metadata": {
    "colab": {
     "base_uri": "https://localhost:8080/"
    },
    "id": "bRQzvxZ9uXyZ",
    "outputId": "282219ac-f046-4f06-9ef1-019f262b8c7c"
   },
   "outputs": [
    {
     "name": "stdout",
     "output_type": "stream",
     "text": [
      "cpu\n"
     ]
    }
   ],
   "source": [
    "\n",
    "import torch\n",
    "import torch.autograd as autograd         # computation graph\n",
    "from torch import Tensor                  # tensor node in the computation graph\n",
    "import torch.nn as nn                     # neural networks\n",
    "import torch.optim as optim               # optimizers e.g. gradient descent, ADAM, etc.\n",
    "\n",
    "import matplotlib.pyplot as plt\n",
    "import matplotlib.gridspec as gridspec\n",
    "from mpl_toolkits.axes_grid1 import make_axes_locatable\n",
    "from mpl_toolkits.mplot3d import Axes3D\n",
    "import matplotlib.ticker\n",
    "from sklearn.model_selection import train_test_split\n",
    "\n",
    "import numpy as np\n",
    "import time\n",
    "# from pyDOE import lhs         #Latin Hypercube Sampling\n",
    "import scipy.io\n",
    "\n",
    "torch.set_default_dtype(torch.float)\n",
    "torch.manual_seed(1234)\n",
    "np.random.seed(1234)\n",
    "device = torch.device('cuda' if torch.cuda.is_available() else 'cpu')\n",
    "\n",
    "print(device)\n",
    "\n",
    "if device == 'cuda':\n",
    "    print(torch.cuda.get_device_name())"
   ]
  },
  {
   "cell_type": "code",
   "execution_count": 146,
   "metadata": {
    "id": "HbRD7_RTuXyk"
   },
   "outputs": [],
   "source": [
    "## Paramaters\n",
    "steps=50000\n",
    "lr=1e-3\n",
    "total_points=500\n",
    "min=0\n",
    "max=5\n",
    "a_true = 3\n",
    "N_u= 100\n",
    "N_f=250\n",
    "layers = np.array([1,50,50,1]) #5 hidden layers\n",
    "\n",
    "def f_BC(t):\n",
    " return torch.exp(a_true *t)"
   ]
  },
  {
   "cell_type": "code",
   "execution_count": 147,
   "metadata": {
    "id": "USB7pU1guXym"
   },
   "outputs": [],
   "source": [
    "# Parameters for equation\n",
    "\n",
    "def grad(function,var):\n",
    "    return autograd.grad(function, var, grad_outputs=torch.ones_like(function), create_graph=True, retain_graph=True)[0]\n",
    "\n",
    "\n",
    "\n",
    "class PINN(nn.Module):\n",
    "\n",
    "    def __init__(self):\n",
    "        super(PINN, self).__init__()\n",
    "\n",
    "\n",
    "\n",
    "        # self.input = nn.Linear(1, 20)\n",
    "        # self.hidden = nn.Linear(20, 20)\n",
    "        # self.out = nn.Linear(20, 1)\n",
    "\n",
    "        self.activation = nn.Tanh()\n",
    "        self.linears = nn.ModuleList([nn.Linear(layers[i], layers[i+1]) for i in range(len(layers)-1)])\n",
    "        self.iter = 0\n",
    "\n",
    "        # training\n",
    "\n",
    "    def forward(self, x):\n",
    "        if torch.is_tensor(x) != True:\n",
    "            x = torch.from_numpy(x)\n",
    "        layer = x.float()\n",
    "        for i in range(len(layers)-2):\n",
    "            z = self.linears[i](layer)\n",
    "            layer = self.activation(z)\n",
    "        layer = self.linears[-1](layer)\n",
    "        return layer\n",
    "        # if torch.is_tensor(x) != True:\n",
    "        #     x = torch.from_numpy(x)\n",
    "        # a = x.float()\n",
    "        # x = self.hidden(x)\n",
    "        # x = self.activation(x)\n",
    "\n",
    "        # x = self.hidden(x)\n",
    "        # x = self.activation(x)\n",
    "\n",
    "\n",
    "        # x = self.out(x)\n",
    "        # return x\n",
    "\n",
    "    # We are using a simple exponential equation to test the PINN\n",
    "\n",
    "    def LossData(self,t,y_meas):\n",
    "        loss_bc = torch.mean((self.forward(t) - y_meas)**2)\n",
    "        return loss_bc\n",
    "\n",
    "    def LossPDE(self,t):\n",
    "\n",
    "        temp = t.clone()\n",
    "        temp.requires_grad = True\n",
    "\n",
    "        u = self.forward(temp)\n",
    "        u_t = autograd.grad(u,temp,grad_outputs=torch.ones_like(u),create_graph=True)[0]\n",
    "        # u_t = grad(u,t)\n",
    "\n",
    "        eq1 = u_t - a*u\n",
    "        # print(\"eq1 data type: \",type(eq1))\n",
    "        loss_PDE = torch.mean(eq1**2)\n",
    "        return loss_PDE\n",
    "    \n",
    "    def LossICD(self,t):\n",
    "        initial_t = torch.zeros(100, device=t.device).reshape(-1, 1)\n",
    "        initial_condition = self.forward(initial_t) - 1.0\n",
    "        loss_ics = torch.mean(initial_condition**2)\n",
    "        return loss_ics\n",
    "\n",
    "    def LossComb(self,t,y_meas):\n",
    "        loss_bc = self.LossData(t,y_meas)\n",
    "        loss_pde = self.LossPDE(t)\n",
    "        loss_ics = self.LossICD(t)\n",
    "\n",
    "        # print(\"bc data type: \",type(loss_bc))\n",
    "        # print(\"pde data type: \",type(loss_pde))\n",
    "\n",
    "        return loss_bc + loss_pde + loss_ics\n",
    "\n"
   ]
  },
  {
   "cell_type": "code",
   "execution_count": 148,
   "metadata": {
    "colab": {
     "base_uri": "https://localhost:8080/"
    },
    "id": "AqMH7KXcuXyo",
    "outputId": "8e85e715-7aa0-4ff3-a2a9-d1e8f359b9e1"
   },
   "outputs": [
    {
     "name": "stdout",
     "output_type": "stream",
     "text": [
      "torch.Size([500, 1]) torch.Size([500, 1])\n"
     ]
    }
   ],
   "source": [
    "# get the analytical solution over the full domain\n",
    "t_vals = torch.linspace(min,max,total_points,device = device).reshape(-1, 1) #prepare to NN\n",
    "y_true = f_BC(t_vals)\n",
    "print(t_vals.shape, y_true.shape)\n"
   ]
  },
  {
   "cell_type": "code",
   "execution_count": 149,
   "metadata": {
    "colab": {
     "base_uri": "https://localhost:8080/"
    },
    "id": "Jof1vj9EuXyr",
    "outputId": "66a95200-7472-442d-b908-04a0183f63bb"
   },
   "outputs": [
    {
     "name": "stdout",
     "output_type": "stream",
     "text": [
      "(100, 1)\n",
      "We have 500 points. We will select 250 points to train our model.\n",
      "tensor([[1.0000e+00],\n",
      "        [1.1976e+00],\n",
      "        [1.2342e+00],\n",
      "        [1.3107e+00],\n",
      "        [1.3919e+00],\n",
      "        [1.4781e+00],\n",
      "        [1.8243e+00],\n",
      "        [1.8800e+00],\n",
      "        [1.9374e+00],\n",
      "        [1.9965e+00],\n",
      "        [2.0574e+00],\n",
      "        [2.1202e+00],\n",
      "        [2.2516e+00],\n",
      "        [2.3911e+00],\n",
      "        [2.5392e+00],\n",
      "        [2.6966e+00],\n",
      "        [2.9511e+00],\n",
      "        [3.0411e+00],\n",
      "        [3.3281e+00],\n",
      "        [3.5343e+00],\n",
      "        [3.6422e+00],\n",
      "        [3.7533e+00],\n",
      "        [4.6324e+00],\n",
      "        [4.7737e+00],\n",
      "        [5.0695e+00],\n",
      "        [5.2242e+00],\n",
      "        [5.5479e+00],\n",
      "        [5.7172e+00],\n",
      "        [5.8917e+00],\n",
      "        [6.8473e+00],\n",
      "        [7.2715e+00],\n",
      "        [7.4934e+00],\n",
      "        [7.9578e+00],\n",
      "        [8.2006e+00],\n",
      "        [8.4509e+00],\n",
      "        [8.9745e+00],\n",
      "        [9.2484e+00],\n",
      "        [1.0121e+01],\n",
      "        [1.0430e+01],\n",
      "        [1.1076e+01],\n",
      "        [1.4960e+01],\n",
      "        [1.5417e+01],\n",
      "        [1.5887e+01],\n",
      "        [1.6372e+01],\n",
      "        [1.7387e+01],\n",
      "        [1.8464e+01],\n",
      "        [1.9608e+01],\n",
      "        [2.0207e+01],\n",
      "        [2.0823e+01],\n",
      "        [2.1459e+01],\n",
      "        [2.2788e+01],\n",
      "        [2.5700e+01],\n",
      "        [2.7293e+01],\n",
      "        [2.8125e+01],\n",
      "        [2.8984e+01],\n",
      "        [3.1719e+01],\n",
      "        [3.4712e+01],\n",
      "        [3.9147e+01],\n",
      "        [4.0342e+01],\n",
      "        [4.1573e+01],\n",
      "        [4.2842e+01],\n",
      "        [4.8316e+01],\n",
      "        [5.1309e+01],\n",
      "        [5.2875e+01],\n",
      "        [5.4489e+01],\n",
      "        [5.6152e+01],\n",
      "        [6.3326e+01],\n",
      "        [6.7250e+01],\n",
      "        [6.9302e+01],\n",
      "        [7.5842e+01],\n",
      "        [8.0542e+01],\n",
      "        [8.5533e+01],\n",
      "        [8.8143e+01],\n",
      "        [9.9405e+01],\n",
      "        [1.0879e+02],\n",
      "        [1.1211e+02],\n",
      "        [1.2268e+02],\n",
      "        [1.3029e+02],\n",
      "        [1.3426e+02],\n",
      "        [1.4693e+02],\n",
      "        [1.5142e+02],\n",
      "        [1.5604e+02],\n",
      "        [1.6080e+02],\n",
      "        [1.8134e+02],\n",
      "        [1.9846e+02],\n",
      "        [2.1719e+02],\n",
      "        [2.2382e+02],\n",
      "        [2.3065e+02],\n",
      "        [2.6011e+02],\n",
      "        [2.6805e+02],\n",
      "        [2.7623e+02],\n",
      "        [2.8466e+02],\n",
      "        [2.9335e+02],\n",
      "        [3.1153e+02],\n",
      "        [3.2103e+02],\n",
      "        [3.3083e+02],\n",
      "        [3.4093e+02],\n",
      "        [3.8448e+02],\n",
      "        [4.0831e+02],\n",
      "        [4.3361e+02],\n",
      "        [4.4684e+02],\n",
      "        [4.7453e+02],\n",
      "        [4.8901e+02],\n",
      "        [5.0393e+02],\n",
      "        [6.0354e+02],\n",
      "        [6.2195e+02],\n",
      "        [6.4093e+02],\n",
      "        [7.0142e+02],\n",
      "        [7.2282e+02],\n",
      "        [7.4488e+02],\n",
      "        [7.6761e+02],\n",
      "        [7.9104e+02],\n",
      "        [8.1518e+02],\n",
      "        [8.4005e+02],\n",
      "        [8.6569e+02],\n",
      "        [8.9211e+02],\n",
      "        [9.4739e+02],\n",
      "        [9.7630e+02],\n",
      "        [1.0061e+03],\n",
      "        [1.1346e+03],\n",
      "        [1.3187e+03],\n",
      "        [1.6771e+03],\n",
      "        [1.7283e+03],\n",
      "        [1.9492e+03],\n",
      "        [2.0086e+03],\n",
      "        [2.0699e+03],\n",
      "        [2.1331e+03],\n",
      "        [2.5547e+03],\n",
      "        [2.6327e+03],\n",
      "        [2.7130e+03],\n",
      "        [2.7958e+03],\n",
      "        [2.8811e+03],\n",
      "        [3.1530e+03],\n",
      "        [3.3484e+03],\n",
      "        [3.4506e+03],\n",
      "        [3.6644e+03],\n",
      "        [4.2587e+03],\n",
      "        [4.5226e+03],\n",
      "        [5.5817e+03],\n",
      "        [5.7521e+03],\n",
      "        [5.9276e+03],\n",
      "        [7.3158e+03],\n",
      "        [7.7692e+03],\n",
      "        [8.0062e+03],\n",
      "        [8.2506e+03],\n",
      "        [8.5023e+03],\n",
      "        [8.7618e+03],\n",
      "        [9.3047e+03],\n",
      "        [9.5887e+03],\n",
      "        [9.8813e+03],\n",
      "        [1.0494e+04],\n",
      "        [1.0814e+04],\n",
      "        [1.1144e+04],\n",
      "        [1.1834e+04],\n",
      "        [1.2568e+04],\n",
      "        [1.2951e+04],\n",
      "        [1.4606e+04],\n",
      "        [1.5511e+04],\n",
      "        [1.5984e+04],\n",
      "        [1.6472e+04],\n",
      "        [1.6975e+04],\n",
      "        [1.8577e+04],\n",
      "        [1.9728e+04],\n",
      "        [2.2248e+04],\n",
      "        [2.3627e+04],\n",
      "        [2.5091e+04],\n",
      "        [2.5857e+04],\n",
      "        [2.6646e+04],\n",
      "        [2.9160e+04],\n",
      "        [3.0967e+04],\n",
      "        [3.3890e+04],\n",
      "        [3.4924e+04],\n",
      "        [3.5989e+04],\n",
      "        [3.7088e+04],\n",
      "        [4.0588e+04],\n",
      "        [4.4418e+04],\n",
      "        [4.5774e+04],\n",
      "        [4.7170e+04],\n",
      "        [5.6494e+04],\n",
      "        [5.9994e+04],\n",
      "        [7.4045e+04],\n",
      "        [8.1032e+04],\n",
      "        [8.6054e+04],\n",
      "        [8.8680e+04],\n",
      "        [9.4175e+04],\n",
      "        [9.7048e+04],\n",
      "        [1.0945e+05],\n",
      "        [1.1279e+05],\n",
      "        [1.1623e+05],\n",
      "        [1.2343e+05],\n",
      "        [1.2720e+05],\n",
      "        [1.3508e+05],\n",
      "        [1.3920e+05],\n",
      "        [1.4345e+05],\n",
      "        [1.5234e+05],\n",
      "        [1.6672e+05],\n",
      "        [1.7180e+05],\n",
      "        [1.7705e+05],\n",
      "        [1.8245e+05],\n",
      "        [1.8802e+05],\n",
      "        [1.9375e+05],\n",
      "        [1.9967e+05],\n",
      "        [2.0576e+05],\n",
      "        [2.1204e+05],\n",
      "        [2.3205e+05],\n",
      "        [2.4643e+05],\n",
      "        [2.6969e+05],\n",
      "        [2.9514e+05],\n",
      "        [3.0414e+05],\n",
      "        [3.1342e+05],\n",
      "        [3.3284e+05],\n",
      "        [3.5347e+05],\n",
      "        [3.7537e+05],\n",
      "        [4.4956e+05],\n",
      "        [4.7742e+05],\n",
      "        [4.9199e+05],\n",
      "        [5.0700e+05],\n",
      "        [5.3842e+05],\n",
      "        [5.7178e+05],\n",
      "        [6.2574e+05],\n",
      "        [6.4484e+05],\n",
      "        [6.8479e+05],\n",
      "        [7.0569e+05],\n",
      "        [7.7229e+05],\n",
      "        [8.7096e+05],\n",
      "        [9.5316e+05],\n",
      "        [1.0122e+06],\n",
      "        [1.0431e+06],\n",
      "        [1.0749e+06],\n",
      "        [1.1415e+06],\n",
      "        [1.1764e+06],\n",
      "        [1.2493e+06],\n",
      "        [1.3267e+06],\n",
      "        [1.3672e+06],\n",
      "        [1.4089e+06],\n",
      "        [1.4519e+06],\n",
      "        [1.4962e+06],\n",
      "        [1.5419e+06],\n",
      "        [1.7919e+06],\n",
      "        [1.8466e+06],\n",
      "        [2.0209e+06],\n",
      "        [2.1461e+06],\n",
      "        [2.2116e+06],\n",
      "        [2.2791e+06],\n",
      "        [2.3486e+06],\n",
      "        [2.4942e+06],\n",
      "        [2.6487e+06],\n",
      "        [2.7295e+06],\n",
      "        [2.8987e+06],\n",
      "        [2.9871e+06]])\n"
     ]
    }
   ],
   "source": [
    "# Construct trainning data\n",
    "\n",
    "total_points = len(t_vals)\n",
    "id_f = np.random.choice(total_points, N_f, replace=False)# Randomly chosen points for Interior\n",
    "id_f = np.sort(id_f)\n",
    "t_train = t_vals[id_f]\n",
    "y_train= y_true[id_f]\n",
    "\n",
    "t_test = torch.linspace(0, 1, 100, device=device).reshape(-1, 1)\n",
    "t_plot = t_test.detach().cpu().numpy()\n",
    "y_plot = f_BC(t_test).detach().cpu().numpy()\n",
    "print(np.shape(t_plot))\n",
    "print(\"We have\",total_points,\"points. We will select\",t_train.shape[0],\"points to train our model.\")\n",
    "\n",
    "print(y_train)"
   ]
  },
  {
   "cell_type": "code",
   "execution_count": 150,
   "metadata": {
    "id": "BRH7t9JVuXyt"
   },
   "outputs": [],
   "source": [
    "\n",
    "#Create Model\n",
    "model = PINN().to(device)\n",
    "\n",
    "a = torch.tensor([1.1], requires_grad=True, device=device)\n",
    "\n",
    "params = list(model.parameters())\n",
    "# params.append(a)\n",
    "optimizer = torch.optim.Adam(params+[a],lr=lr,amsgrad=False)\n",
    "start_time = time.time()"
   ]
  },
  {
   "cell_type": "code",
   "execution_count": 151,
   "metadata": {
    "colab": {
     "base_uri": "https://localhost:8080/",
     "height": 1000
    },
    "id": "1B76fbyquXyu",
    "outputId": "e6edfab7-18c9-49ba-8779-f457173a972d"
   },
   "outputs": [
    {
     "name": "stdout",
     "output_type": "stream",
     "text": [
      "Epoch 0, Loss: 383001100288.000000, Estimated a: 1.099000\n",
      "PDE LOSS:  0.00843053963035345\n",
      "Data LOSS:  383001034752.0\n",
      "Epoch 1000, Loss: 382974492672.000000, Estimated a: 0.100436\n",
      "PDE LOSS:  519.1357421875\n",
      "Data LOSS:  382974459904.0\n",
      "Epoch 2000, Loss: 382950309888.000000, Estimated a: 0.112316\n",
      "PDE LOSS:  1369.27587890625\n",
      "Data LOSS:  382950309888.0\n",
      "Epoch 3000, Loss: 382926192640.000000, Estimated a: 0.133384\n",
      "PDE LOSS:  1818.8062744140625\n",
      "Data LOSS:  382926127104.0\n",
      "Epoch 4000, Loss: 382902075392.000000, Estimated a: 0.142606\n",
      "PDE LOSS:  3130.02294921875\n",
      "Data LOSS:  382902042624.0\n",
      "Epoch 5000, Loss: 382878023680.000000, Estimated a: 0.147418\n",
      "PDE LOSS:  4790.76220703125\n",
      "Data LOSS:  382877958144.0\n",
      "Epoch 6000, Loss: 382853906432.000000, Estimated a: 0.151078\n",
      "PDE LOSS:  6928.998046875\n",
      "Data LOSS:  382853906432.0\n",
      "Epoch 7000, Loss: 382829821952.000000, Estimated a: 0.152052\n",
      "PDE LOSS:  9148.099609375\n",
      "Data LOSS:  382829821952.0\n",
      "Epoch 8000, Loss: 382805835776.000000, Estimated a: 0.134297\n",
      "PDE LOSS:  10678.982421875\n",
      "Data LOSS:  382805737472.0\n",
      "Epoch 9000, Loss: 382781784064.000000, Estimated a: 0.115410\n",
      "PDE LOSS:  10575.8369140625\n",
      "Data LOSS:  382781718528.0\n",
      "Epoch 10000, Loss: 382757699584.000000, Estimated a: 0.095549\n",
      "PDE LOSS:  10754.8076171875\n",
      "Data LOSS:  382757699584.0\n",
      "Epoch 11000, Loss: 382733647872.000000, Estimated a: 0.079301\n",
      "PDE LOSS:  10208.7265625\n",
      "Data LOSS:  382733615104.0\n",
      "Epoch 12000, Loss: 382709628928.000000, Estimated a: 0.064472\n",
      "PDE LOSS:  9347.2099609375\n",
      "Data LOSS:  382709563392.0\n",
      "Epoch 13000, Loss: 382685544448.000000, Estimated a: 0.054583\n",
      "PDE LOSS:  8474.7646484375\n",
      "Data LOSS:  382685511680.0\n",
      "Epoch 14000, Loss: 382661525504.000000, Estimated a: 0.045591\n",
      "PDE LOSS:  7636.44287109375\n",
      "Data LOSS:  382661525504.0\n",
      "Epoch 15000, Loss: 382637506560.000000, Estimated a: 0.037199\n",
      "PDE LOSS:  5896.04931640625\n",
      "Data LOSS:  382637441024.0\n",
      "Epoch 16000, Loss: 382613422080.000000, Estimated a: 0.030806\n",
      "PDE LOSS:  4400.708984375\n",
      "Data LOSS:  382613389312.0\n",
      "Epoch 17000, Loss: 382589403136.000000, Estimated a: 0.023122\n",
      "PDE LOSS:  2808.866943359375\n",
      "Data LOSS:  382589403136.0\n",
      "Epoch 18000, Loss: 382565416960.000000, Estimated a: 0.018095\n",
      "PDE LOSS:  1884.1732177734375\n",
      "Data LOSS:  382565351424.0\n",
      "Epoch 19000, Loss: 382541365248.000000, Estimated a: 0.017143\n",
      "PDE LOSS:  1733.375244140625\n",
      "Data LOSS:  382541299712.0\n",
      "Epoch 20000, Loss: 382517346304.000000, Estimated a: 0.011104\n",
      "PDE LOSS:  847.8395385742188\n",
      "Data LOSS:  382517346304.0\n",
      "Epoch 21000, Loss: 382493360128.000000, Estimated a: 0.010390\n",
      "PDE LOSS:  810.9196166992188\n",
      "Data LOSS:  382493327360.0\n",
      "Epoch 22000, Loss: 382469308416.000000, Estimated a: 0.010755\n",
      "PDE LOSS:  989.3207397460938\n",
      "Data LOSS:  382469275648.0\n",
      "Epoch 23000, Loss: 382445289472.000000, Estimated a: 0.008600\n",
      "PDE LOSS:  805.53564453125\n",
      "Data LOSS:  382445289472.0\n",
      "Epoch 24000, Loss: 382421237760.000000, Estimated a: 0.007111\n",
      "PDE LOSS:  624.1416015625\n",
      "Data LOSS:  382421237760.0\n",
      "Epoch 25000, Loss: 382397317120.000000, Estimated a: 0.006172\n",
      "PDE LOSS:  549.20068359375\n",
      "Data LOSS:  382397251584.0\n",
      "Epoch 26000, Loss: 382373232640.000000, Estimated a: 0.006759\n",
      "PDE LOSS:  678.9141845703125\n",
      "Data LOSS:  382373232640.0\n",
      "Epoch 27000, Loss: 382349344768.000000, Estimated a: 0.007047\n",
      "PDE LOSS:  835.6281127929688\n",
      "Data LOSS:  382349279232.0\n",
      "Epoch 28000, Loss: 382325293056.000000, Estimated a: 0.006570\n",
      "PDE LOSS:  906.1585693359375\n",
      "Data LOSS:  382325260288.0\n",
      "Epoch 29000, Loss: 382301274112.000000, Estimated a: 0.005542\n",
      "PDE LOSS:  831.8825073242188\n",
      "Data LOSS:  382301241344.0\n",
      "Epoch 30000, Loss: 382277287936.000000, Estimated a: 0.006969\n",
      "PDE LOSS:  1231.3275146484375\n",
      "Data LOSS:  382277255168.0\n",
      "Epoch 31000, Loss: 382253334528.000000, Estimated a: 0.007211\n",
      "PDE LOSS:  1315.18701171875\n",
      "Data LOSS:  382253268992.0\n",
      "Epoch 32000, Loss: 382229282816.000000, Estimated a: 0.007162\n",
      "PDE LOSS:  1416.5391845703125\n",
      "Data LOSS:  382229282816.0\n",
      "Epoch 33000, Loss: 382205329408.000000, Estimated a: 0.007234\n",
      "PDE LOSS:  1485.7955322265625\n",
      "Data LOSS:  382205329408.0\n",
      "Epoch 34000, Loss: 382181343232.000000, Estimated a: 0.006752\n",
      "PDE LOSS:  1591.9710693359375\n",
      "Data LOSS:  382181277696.0\n",
      "Epoch 35000, Loss: 382157324288.000000, Estimated a: 0.002268\n",
      "PDE LOSS:  258.867431640625\n",
      "Data LOSS:  382157324288.0\n",
      "Epoch 36000, Loss: 382133370880.000000, Estimated a: 0.001776\n",
      "PDE LOSS:  175.27557373046875\n",
      "Data LOSS:  382133370880.0\n",
      "Epoch 37000, Loss: 382109450240.000000, Estimated a: 0.001668\n",
      "PDE LOSS:  160.5643768310547\n",
      "Data LOSS:  382109351936.0\n"
     ]
    },
    {
     "ename": "KeyboardInterrupt",
     "evalue": "",
     "output_type": "error",
     "traceback": [
      "\u001b[1;31m---------------------------------------------------------------------------\u001b[0m",
      "\u001b[1;31mKeyboardInterrupt\u001b[0m                         Traceback (most recent call last)",
      "Cell \u001b[1;32mIn[151], line 5\u001b[0m\n\u001b[0;32m      2\u001b[0m fig, ax \u001b[38;5;241m=\u001b[39m plt\u001b[38;5;241m.\u001b[39msubplots(figsize\u001b[38;5;241m=\u001b[39m(\u001b[38;5;241m8\u001b[39m, \u001b[38;5;241m6\u001b[39m))\n\u001b[0;32m      4\u001b[0m \u001b[38;5;28;01mfor\u001b[39;00m i \u001b[38;5;129;01min\u001b[39;00m \u001b[38;5;28mrange\u001b[39m(steps):\n\u001b[1;32m----> 5\u001b[0m     yh \u001b[38;5;241m=\u001b[39m \u001b[43mmodel\u001b[49m\u001b[43m(\u001b[49m\u001b[43mt_train\u001b[49m\u001b[43m)\u001b[49m\n\u001b[0;32m      6\u001b[0m     loss \u001b[38;5;241m=\u001b[39m model\u001b[38;5;241m.\u001b[39mLossComb(t_train,y_train)\u001b[38;5;66;03m# use mean squared error\u001b[39;00m\n\u001b[0;32m      7\u001b[0m     optimizer\u001b[38;5;241m.\u001b[39mzero_grad()\n",
      "File \u001b[1;32mc:\\Users\\anton\\OneDrive\\Noter\\Deep Learning\\Projekt\\DeepLearning-PINNs\\DeepLearning-PINNs\\DeepLearningENV\\lib\\site-packages\\torch\\nn\\modules\\module.py:1736\u001b[0m, in \u001b[0;36mModule._wrapped_call_impl\u001b[1;34m(self, *args, **kwargs)\u001b[0m\n\u001b[0;32m   1734\u001b[0m     \u001b[38;5;28;01mreturn\u001b[39;00m \u001b[38;5;28mself\u001b[39m\u001b[38;5;241m.\u001b[39m_compiled_call_impl(\u001b[38;5;241m*\u001b[39margs, \u001b[38;5;241m*\u001b[39m\u001b[38;5;241m*\u001b[39mkwargs)  \u001b[38;5;66;03m# type: ignore[misc]\u001b[39;00m\n\u001b[0;32m   1735\u001b[0m \u001b[38;5;28;01melse\u001b[39;00m:\n\u001b[1;32m-> 1736\u001b[0m     \u001b[38;5;28;01mreturn\u001b[39;00m \u001b[38;5;28mself\u001b[39m\u001b[38;5;241m.\u001b[39m_call_impl(\u001b[38;5;241m*\u001b[39margs, \u001b[38;5;241m*\u001b[39m\u001b[38;5;241m*\u001b[39mkwargs)\n",
      "File \u001b[1;32mc:\\Users\\anton\\OneDrive\\Noter\\Deep Learning\\Projekt\\DeepLearning-PINNs\\DeepLearning-PINNs\\DeepLearningENV\\lib\\site-packages\\torch\\nn\\modules\\module.py:1747\u001b[0m, in \u001b[0;36mModule._call_impl\u001b[1;34m(self, *args, **kwargs)\u001b[0m\n\u001b[0;32m   1742\u001b[0m \u001b[38;5;66;03m# If we don't have any hooks, we want to skip the rest of the logic in\u001b[39;00m\n\u001b[0;32m   1743\u001b[0m \u001b[38;5;66;03m# this function, and just call forward.\u001b[39;00m\n\u001b[0;32m   1744\u001b[0m \u001b[38;5;28;01mif\u001b[39;00m \u001b[38;5;129;01mnot\u001b[39;00m (\u001b[38;5;28mself\u001b[39m\u001b[38;5;241m.\u001b[39m_backward_hooks \u001b[38;5;129;01mor\u001b[39;00m \u001b[38;5;28mself\u001b[39m\u001b[38;5;241m.\u001b[39m_backward_pre_hooks \u001b[38;5;129;01mor\u001b[39;00m \u001b[38;5;28mself\u001b[39m\u001b[38;5;241m.\u001b[39m_forward_hooks \u001b[38;5;129;01mor\u001b[39;00m \u001b[38;5;28mself\u001b[39m\u001b[38;5;241m.\u001b[39m_forward_pre_hooks\n\u001b[0;32m   1745\u001b[0m         \u001b[38;5;129;01mor\u001b[39;00m _global_backward_pre_hooks \u001b[38;5;129;01mor\u001b[39;00m _global_backward_hooks\n\u001b[0;32m   1746\u001b[0m         \u001b[38;5;129;01mor\u001b[39;00m _global_forward_hooks \u001b[38;5;129;01mor\u001b[39;00m _global_forward_pre_hooks):\n\u001b[1;32m-> 1747\u001b[0m     \u001b[38;5;28;01mreturn\u001b[39;00m forward_call(\u001b[38;5;241m*\u001b[39margs, \u001b[38;5;241m*\u001b[39m\u001b[38;5;241m*\u001b[39mkwargs)\n\u001b[0;32m   1749\u001b[0m result \u001b[38;5;241m=\u001b[39m \u001b[38;5;28;01mNone\u001b[39;00m\n\u001b[0;32m   1750\u001b[0m called_always_called_hooks \u001b[38;5;241m=\u001b[39m \u001b[38;5;28mset\u001b[39m()\n",
      "Cell \u001b[1;32mIn[147], line 31\u001b[0m, in \u001b[0;36mPINN.forward\u001b[1;34m(self, x)\u001b[0m\n\u001b[0;32m     29\u001b[0m \u001b[38;5;28;01mfor\u001b[39;00m i \u001b[38;5;129;01min\u001b[39;00m \u001b[38;5;28mrange\u001b[39m(\u001b[38;5;28mlen\u001b[39m(layers)\u001b[38;5;241m-\u001b[39m\u001b[38;5;241m2\u001b[39m):\n\u001b[0;32m     30\u001b[0m     z \u001b[38;5;241m=\u001b[39m \u001b[38;5;28mself\u001b[39m\u001b[38;5;241m.\u001b[39mlinears[i](layer)\n\u001b[1;32m---> 31\u001b[0m     layer \u001b[38;5;241m=\u001b[39m \u001b[38;5;28;43mself\u001b[39;49m\u001b[38;5;241;43m.\u001b[39;49m\u001b[43mactivation\u001b[49m\u001b[43m(\u001b[49m\u001b[43mz\u001b[49m\u001b[43m)\u001b[49m\n\u001b[0;32m     32\u001b[0m layer \u001b[38;5;241m=\u001b[39m \u001b[38;5;28mself\u001b[39m\u001b[38;5;241m.\u001b[39mlinears[\u001b[38;5;241m-\u001b[39m\u001b[38;5;241m1\u001b[39m](layer)\n\u001b[0;32m     33\u001b[0m \u001b[38;5;28;01mreturn\u001b[39;00m layer\n",
      "File \u001b[1;32mc:\\Users\\anton\\OneDrive\\Noter\\Deep Learning\\Projekt\\DeepLearning-PINNs\\DeepLearning-PINNs\\DeepLearningENV\\lib\\site-packages\\torch\\nn\\modules\\module.py:1736\u001b[0m, in \u001b[0;36mModule._wrapped_call_impl\u001b[1;34m(self, *args, **kwargs)\u001b[0m\n\u001b[0;32m   1734\u001b[0m     \u001b[38;5;28;01mreturn\u001b[39;00m \u001b[38;5;28mself\u001b[39m\u001b[38;5;241m.\u001b[39m_compiled_call_impl(\u001b[38;5;241m*\u001b[39margs, \u001b[38;5;241m*\u001b[39m\u001b[38;5;241m*\u001b[39mkwargs)  \u001b[38;5;66;03m# type: ignore[misc]\u001b[39;00m\n\u001b[0;32m   1735\u001b[0m \u001b[38;5;28;01melse\u001b[39;00m:\n\u001b[1;32m-> 1736\u001b[0m     \u001b[38;5;28;01mreturn\u001b[39;00m \u001b[38;5;28mself\u001b[39m\u001b[38;5;241m.\u001b[39m_call_impl(\u001b[38;5;241m*\u001b[39margs, \u001b[38;5;241m*\u001b[39m\u001b[38;5;241m*\u001b[39mkwargs)\n",
      "File \u001b[1;32mc:\\Users\\anton\\OneDrive\\Noter\\Deep Learning\\Projekt\\DeepLearning-PINNs\\DeepLearning-PINNs\\DeepLearningENV\\lib\\site-packages\\torch\\nn\\modules\\module.py:1747\u001b[0m, in \u001b[0;36mModule._call_impl\u001b[1;34m(self, *args, **kwargs)\u001b[0m\n\u001b[0;32m   1742\u001b[0m \u001b[38;5;66;03m# If we don't have any hooks, we want to skip the rest of the logic in\u001b[39;00m\n\u001b[0;32m   1743\u001b[0m \u001b[38;5;66;03m# this function, and just call forward.\u001b[39;00m\n\u001b[0;32m   1744\u001b[0m \u001b[38;5;28;01mif\u001b[39;00m \u001b[38;5;129;01mnot\u001b[39;00m (\u001b[38;5;28mself\u001b[39m\u001b[38;5;241m.\u001b[39m_backward_hooks \u001b[38;5;129;01mor\u001b[39;00m \u001b[38;5;28mself\u001b[39m\u001b[38;5;241m.\u001b[39m_backward_pre_hooks \u001b[38;5;129;01mor\u001b[39;00m \u001b[38;5;28mself\u001b[39m\u001b[38;5;241m.\u001b[39m_forward_hooks \u001b[38;5;129;01mor\u001b[39;00m \u001b[38;5;28mself\u001b[39m\u001b[38;5;241m.\u001b[39m_forward_pre_hooks\n\u001b[0;32m   1745\u001b[0m         \u001b[38;5;129;01mor\u001b[39;00m _global_backward_pre_hooks \u001b[38;5;129;01mor\u001b[39;00m _global_backward_hooks\n\u001b[0;32m   1746\u001b[0m         \u001b[38;5;129;01mor\u001b[39;00m _global_forward_hooks \u001b[38;5;129;01mor\u001b[39;00m _global_forward_pre_hooks):\n\u001b[1;32m-> 1747\u001b[0m     \u001b[38;5;28;01mreturn\u001b[39;00m forward_call(\u001b[38;5;241m*\u001b[39margs, \u001b[38;5;241m*\u001b[39m\u001b[38;5;241m*\u001b[39mkwargs)\n\u001b[0;32m   1749\u001b[0m result \u001b[38;5;241m=\u001b[39m \u001b[38;5;28;01mNone\u001b[39;00m\n\u001b[0;32m   1750\u001b[0m called_always_called_hooks \u001b[38;5;241m=\u001b[39m \u001b[38;5;28mset\u001b[39m()\n",
      "File \u001b[1;32mc:\\Users\\anton\\OneDrive\\Noter\\Deep Learning\\Projekt\\DeepLearning-PINNs\\DeepLearning-PINNs\\DeepLearningENV\\lib\\site-packages\\torch\\nn\\modules\\activation.py:392\u001b[0m, in \u001b[0;36mTanh.forward\u001b[1;34m(self, input)\u001b[0m\n\u001b[0;32m    391\u001b[0m \u001b[38;5;28;01mdef\u001b[39;00m \u001b[38;5;21mforward\u001b[39m(\u001b[38;5;28mself\u001b[39m, \u001b[38;5;28minput\u001b[39m: Tensor) \u001b[38;5;241m-\u001b[39m\u001b[38;5;241m>\u001b[39m Tensor:\n\u001b[1;32m--> 392\u001b[0m     \u001b[38;5;28;01mreturn\u001b[39;00m \u001b[43mtorch\u001b[49m\u001b[38;5;241;43m.\u001b[39;49m\u001b[43mtanh\u001b[49m\u001b[43m(\u001b[49m\u001b[38;5;28;43minput\u001b[39;49m\u001b[43m)\u001b[49m\n",
      "\u001b[1;31mKeyboardInterrupt\u001b[0m: "
     ]
    },
    {
     "data": {
      "image/png": "[encoded data removed]",
      "text/plain": [
       "<Figure size 800x600 with 1 Axes>"
      ]
     },
     "metadata": {},
     "output_type": "display_data"
    }
   ],
   "source": [
    "plt.ion()\n",
    "fig, ax = plt.subplots(figsize=(8, 6))\n",
    "\n",
    "for i in range(steps):\n",
    "    yh = model(t_train)\n",
    "    loss = model.LossComb(t_train,y_train)# use mean squared error\n",
    "    optimizer.zero_grad()\n",
    "    loss.backward()\n",
    "    optimizer.step()\n",
    "    if i%(steps/50)==0:\n",
    "      print(f\"Epoch {i}, Loss: {loss.item():.6f}, Estimated a: {a.item():.6f}\")\n",
    "      print(\"PDE LOSS: \",model.LossPDE(t_train).item())\n",
    "      print(\"Data LOSS: \",model.LossData(t_train,y_train).item())\n",
    "\n",
    "      # y_pred = model(t_test).detach().cpu().numpy()\n",
    "      # ax.plot(t_plot, y_plot, label=\"Exact Solution $y(t) = e^{3t}$\", linestyle=\"--\")\n",
    "      # ax.plot(t_plot, y_pred, label=\"PINN Approximation\", linestyle=\"-\")\n",
    "      # ax.set_xlabel(\"Time $t$\")\n",
    "      # ax.set_ylabel(\"$y(t)$\")\n",
    "      # ax.set_title(f\"PINN Solution vs Exact Solution\\nEstimated a: {a.item():.4f}, Epoch: {i}\")\n",
    "      # ax.legend()\n",
    "      # ax.grid(True)\n",
    "      # plt.pause(0.01)  # Pause to update the figure \n",
    "      # ax.clear()  # Clear previous plots\n",
    "plt.ioff()\n",
    "plt.show()"
   ]
  },
  {
   "cell_type": "code",
   "execution_count": null,
   "metadata": {
    "id": "cus0FzITuXyv",
    "outputId": "e6aa77f5-a3a5-402b-aa4f-2fad0d9a6ca4"
   },
   "outputs": [
    {
     "name": "stdout",
     "output_type": "stream",
     "text": [
      "tensor(0.0590, grad_fn=<MeanBackward0>)\n"
     ]
    }
   ],
   "source": [
    "yh=model(x.to(device))\n",
    "y=f_BC(x)\n",
    "#Error\n",
    "print(model.LossBC(x.to(device)))"
   ]
  },
  {
   "cell_type": "code",
   "execution_count": null,
   "metadata": {
    "id": "U8HRbs3OuXyx"
   },
   "outputs": [],
   "source": [
    "# Derivative\n",
    "g=x.to(device)\n",
    "g=g.clone()\n",
    "g.requires_grad=True #Enable differentiation\n",
    "f=model(g)\n",
    "f_x=autograd.grad(f,g,torch.ones([g.shape[0],1]).to(device),retain_graph=True, create_graph=True)[0]"
   ]
  },
  {
   "cell_type": "code",
   "execution_count": null,
   "metadata": {
    "id": "wcoPsie-uXyy"
   },
   "outputs": [],
   "source": [
    "y_plot=y.detach().numpy()\n",
    "yh_plot=yh.detach().cpu().numpy()\n",
    "f_x_plot=f_x.detach().cpu().numpy()\n"
   ]
  },
  {
   "cell_type": "code",
   "execution_count": null,
   "metadata": {
    "id": "x4DFCG6vuXy0",
    "outputId": "6660f8e9-c28b-4e2d-b1ec-21c693dfdea1"
   },
   "outputs": [
    {
     "data": {
      "text/plain": [
       "<matplotlib.legend.Legend at 0x1c4396cf7f0>"
      ]
     },
     "metadata": {},
     "output_type": "display_data"
    },
    {
     "data": {
      "image/png": "[encoded data removed]",
      "text/plain": [
       "<Figure size 640x480 with 1 Axes>"
      ]
     },
     "metadata": {},
     "output_type": "display_data"
    }
   ],
   "source": [
    "# Plot\n",
    "fig, ax1 = plt.subplots()\n",
    "ax1.plot(x,y_plot,color='blue',label='Real u(x)')\n",
    "ax1.plot(x,yh_plot,color='red',label='Predicted u(x)')\n",
    "ax1.plot(x,f_x_plot,color='green',label='Computed u\\'(x)')\n",
    "ax1.plot(x,y_plot-yh_plot,color='black',label='Error')\n",
    "ax1.set_xlabel('x',color='black')\n",
    "ax1.set_ylabel('f(x)',color='black')\n",
    "ax1.tick_params(axis='y', color='black')\n",
    "ax1.legend(loc = 'upper left')\n"
   ]
  },
  {
   "cell_type": "code",
   "execution_count": null,
   "metadata": {
    "id": "rdeuiFDluXy1",
    "outputId": "0af575d9-6f23-4ef0-e037-a8c077f941e9"
   },
   "outputs": [
    {
     "name": "stdout",
     "output_type": "stream",
     "text": [
      "torch.Size([500, 1]) torch.Size([500, 1])\n"
     ]
    },
    {
     "ename": "ValueError",
     "evalue": "Cannot take a larger sample than population when 'replace=False'",
     "output_type": "error",
     "traceback": [
      "\u001b[1;31m---------------------------------------------------------------------------\u001b[0m",
      "\u001b[1;31mValueError\u001b[0m                                Traceback (most recent call last)",
      "Cell \u001b[1;32mIn[17], line 13\u001b[0m\n\u001b[0;32m     11\u001b[0m all_train\u001b[38;5;241m=\u001b[39mtorch\u001b[38;5;241m.\u001b[39mvstack([BC_1,BC_2])\n\u001b[0;32m     12\u001b[0m \u001b[38;5;66;03m#Select Nu points\u001b[39;00m\n\u001b[1;32m---> 13\u001b[0m idx \u001b[38;5;241m=\u001b[39m \u001b[43mnp\u001b[49m\u001b[38;5;241;43m.\u001b[39;49m\u001b[43mrandom\u001b[49m\u001b[38;5;241;43m.\u001b[39;49m\u001b[43mchoice\u001b[49m\u001b[43m(\u001b[49m\u001b[43mall_train\u001b[49m\u001b[38;5;241;43m.\u001b[39;49m\u001b[43mshape\u001b[49m\u001b[43m[\u001b[49m\u001b[38;5;241;43m0\u001b[39;49m\u001b[43m]\u001b[49m\u001b[43m,\u001b[49m\u001b[43m \u001b[49m\u001b[43mN_u\u001b[49m\u001b[43m,\u001b[49m\u001b[43m \u001b[49m\u001b[43mreplace\u001b[49m\u001b[38;5;241;43m=\u001b[39;49m\u001b[38;5;28;43;01mFalse\u001b[39;49;00m\u001b[43m)\u001b[49m \n\u001b[0;32m     14\u001b[0m x_BC\u001b[38;5;241m=\u001b[39mall_train[idx]\n\u001b[0;32m     15\u001b[0m \u001b[38;5;66;03m#Select Nf points\u001b[39;00m\n\u001b[0;32m     16\u001b[0m \u001b[38;5;66;03m# Latin Hypercube sampling for collocation points \u001b[39;00m\n",
      "File \u001b[1;32mnumpy\\\\random\\\\mtrand.pyx:1024\u001b[0m, in \u001b[0;36mnumpy.random.mtrand.RandomState.choice\u001b[1;34m()\u001b[0m\n",
      "\u001b[1;31mValueError\u001b[0m: Cannot take a larger sample than population when 'replace=False'"
     ]
    }
   ],
   "source": [
    "#def get_training_data(x):\n",
    "#Nu: Number of training point, # Nf: Number of colloction points\n",
    "# Set Boundary conditions:\n",
    "t_vals = torch.linspace(min,max,total_points).view(-1,1) #prepare to NN\n",
    "y_true = f_BC(t_vals)\n",
    "print(t_vals.shape, y_true.shape)\n",
    "\n",
    "BC_1=t_vals[0,:]\n",
    "BC_2=t_vals[-1,:]\n",
    "# Total Training points BC1+BC2\n",
    "all_train=torch.vstack([BC_1,BC_2])\n",
    "#Select Nu points\n",
    "idx = np.random.choice(all_train.shape[0], N_u, replace=False)\n",
    "x_BC=all_train[idx]\n",
    "#Select Nf points\n",
    "# Latin Hypercube sampling for collocation points\n",
    "x_PDE = BC_1 + (BC_2-BC_1)*lhs(1,N_f)\n",
    "x_PDE = torch.vstack((x_PDE,x_BC))\n",
    "\n",
    "x_PDE.shape"
   ]
  },
  {
   "cell_type": "code",
   "execution_count": null,
   "metadata": {
    "id": "mctG80HWuXy3",
    "outputId": "ae5ca151-9f11-42a5-e58e-558f5fb41266"
   },
   "outputs": [
    {
     "ename": "NameError",
     "evalue": "name 'x_PDE' is not defined",
     "output_type": "error",
     "traceback": [
      "\u001b[1;31m---------------------------------------------------------------------------\u001b[0m",
      "\u001b[1;31mNameError\u001b[0m                                 Traceback (most recent call last)",
      "Cell \u001b[1;32mIn[11], line 6\u001b[0m\n\u001b[0;32m      3\u001b[0m plt\u001b[38;5;241m.\u001b[39mion()\n\u001b[0;32m      4\u001b[0m fig, ax \u001b[38;5;241m=\u001b[39m plt\u001b[38;5;241m.\u001b[39msubplots(figsize\u001b[38;5;241m=\u001b[39m(\u001b[38;5;241m10\u001b[39m, \u001b[38;5;241m6\u001b[39m))\n\u001b[1;32m----> 6\u001b[0m x_PDE\u001b[38;5;241m=\u001b[39m\u001b[43mx_PDE\u001b[49m\u001b[38;5;241m.\u001b[39mfloat()\u001b[38;5;241m.\u001b[39mto(device)\n\u001b[0;32m      7\u001b[0m x_BC\u001b[38;5;241m=\u001b[39mx_BC\u001b[38;5;241m.\u001b[39mto(device)\n\u001b[0;32m      8\u001b[0m \u001b[38;5;66;03m#Create Model\u001b[39;00m\n",
      "\u001b[1;31mNameError\u001b[0m: name 'x_PDE' is not defined"
     ]
    },
    {
     "data": {
      "image/png": "[encoded data removed]",
      "text/plain": [
       "<Figure size 1000x600 with 1 Axes>"
      ]
     },
     "metadata": {},
     "output_type": "display_data"
    }
   ],
   "source": [
    "#Store tensors to GPU\n",
    "\n",
    "plt.ion()\n",
    "fig, ax = plt.subplots(figsize=(10, 6))\n",
    "\n",
    "x_PDE=x_PDE.float().to(device)\n",
    "x_BC=x_BC.to(device)\n",
    "#Create Model\n",
    "a = torch.tensor([1.0], requires_grad=True, device=device)\n",
    "model = PINN()\n",
    "print(model)\n",
    "model.to(device)\n",
    "params = list(model.parameters()+[a])\n",
    "optimizer = torch.optim.Adam(model.parameters(),lr=lr,amsgrad=False)\n",
    "start_time = time.time()"
   ]
  },
  {
   "cell_type": "code",
   "execution_count": null,
   "metadata": {
    "id": "avxekHipuXy4",
    "outputId": "4f6c5ecf-c3d9-4674-83ab-fb7be1ca260c"
   },
   "outputs": [
    {
     "name": "stdout",
     "output_type": "stream",
     "text": [
      "tensor(81472.1094, grad_fn=<AddBackward0>)\n",
      "tensor(14062.3750, grad_fn=<AddBackward0>)\n",
      "tensor(67.4583, grad_fn=<AddBackward0>)\n",
      "tensor(0.0512, grad_fn=<AddBackward0>)\n",
      "tensor(0.0301, grad_fn=<AddBackward0>)\n",
      "tensor(0.0165, grad_fn=<AddBackward0>)\n",
      "tensor(0.0106, grad_fn=<AddBackward0>)\n",
      "tensor(0.5777, grad_fn=<AddBackward0>)\n",
      "tensor(0.0182, grad_fn=<AddBackward0>)\n",
      "tensor(0.0115, grad_fn=<AddBackward0>)\n"
     ]
    }
   ],
   "source": [
    "#Training\n",
    "for i in range(steps):\n",
    "    yh = model(x_PDE)\n",
    "    loss = model.LossComb(x_PDE,x_BC)# use mean squared error\n",
    "    optimizer.zero_grad()\n",
    "    loss.backward()\n",
    "    optimizer.step()\n",
    "    if i%(steps/10)==0:\n",
    "      print(f\"Epoch {epoch}, Loss: {loss.item():.6f}, Estimated a: {a.item():.6f}\")\n",
    "\n",
    "      # Update the plot every (num_epoch // 10) epochs\n",
    "      y_pred = model(t_test).detach().cpu().numpy()\n",
    "      ax.plot(t_vals, y_true, label=\"Exact Solution $y(t) = e^{3t}$\", linestyle=\"--\")\n",
    "      ax.plot(t_vals, y_pred, label=\"PINN Approximation\", linestyle=\"-\")\n",
    "      ax.set_xlabel(\"Time $t$\")\n",
    "      ax.set_ylabel(\"$y(t)$\")\n",
    "      ax.set_title(f\"PINN Solution vs Exact Solution\\nEstimated a: {a.item():.4f}, Epoch: {epoch}\")\n",
    "      ax.legend()\n",
    "      ax.grid(True)\n",
    "      plt.pause(0.01)  # Pause to update the figure ax.clear()  # Clear previous plots\n",
    "      print(loss)"
   ]
  },
  {
   "cell_type": "code",
   "execution_count": null,
   "metadata": {
    "id": "4KUMHXKCuXy6",
    "outputId": "1151452c-a595-4caa-faa8-a253c59395b6"
   },
   "outputs": [
    {
     "name": "stdout",
     "output_type": "stream",
     "text": [
      "tensor(0.0590, grad_fn=<MeanBackward0>)\n"
     ]
    }
   ],
   "source": [
    "yh=model(x.to(device))\n",
    "y=f_BC(x)\n",
    "#Error\n",
    "print(model.LossBC(x.to(device)))"
   ]
  },
  {
   "cell_type": "code",
   "execution_count": null,
   "metadata": {
    "id": "ZrXFCaMquXy8"
   },
   "outputs": [],
   "source": [
    "# Derivative\n",
    "g=x.to(device)\n",
    "g=g.clone()\n",
    "g.requires_grad=True #Enable differentiation\n",
    "f=model(g)\n",
    "f_x=autograd.grad(f,g,torch.ones([g.shape[0],1]).to(device),retain_graph=True, create_graph=True)[0]"
   ]
  },
  {
   "cell_type": "code",
   "execution_count": null,
   "metadata": {
    "id": "V_yPPWJwuXy9"
   },
   "outputs": [],
   "source": [
    "y_plot=y.detach().numpy()\n",
    "yh_plot=yh.detach().cpu().numpy()\n",
    "f_x_plot=f_x.detach().cpu().numpy()\n"
   ]
  },
  {
   "cell_type": "code",
   "execution_count": null,
   "metadata": {
    "id": "HuLbm4u7uXy9",
    "outputId": "27654068-1029-4010-f64d-bca73d63f962"
   },
   "outputs": [
    {
     "data": {
      "text/plain": [
       "<matplotlib.legend.Legend at 0x1c4396cf7f0>"
      ]
     },
     "metadata": {},
     "output_type": "display_data"
    },
    {
     "data": {
      "image/png": "[encoded data removed]",
      "text/plain": [
       "<Figure size 640x480 with 1 Axes>"
      ]
     },
     "metadata": {},
     "output_type": "display_data"
    }
   ],
   "source": [
    "# Plot\n",
    "fig, ax1 = plt.subplots()\n",
    "ax1.plot(x,y_plot,color='blue',label='Real u(x)')\n",
    "ax1.plot(x,yh_plot,color='red',label='Predicted u(x)')\n",
    "ax1.plot(x,f_x_plot,color='green',label='Computed u\\'(x)')\n",
    "ax1.plot(x,y_plot-yh_plot,color='black',label='Error')\n",
    "ax1.set_xlabel('x',color='black')\n",
    "ax1.set_ylabel('f(x)',color='black')\n",
    "ax1.tick_params(axis='y', color='black')\n",
    "ax1.legend(loc = 'upper left')\n"
   ]
  }
 ],
 "metadata": {
  "accelerator": "GPU",
  "colab": {
   "gpuType": "T4",
   "provenance": []
  },
  "kernelspec": {
   "display_name": "DeepLearningENV",
   "language": "python",
   "name": "python3"
  },
  "language_info": {
   "codemirror_mode": {
    "name": "ipython",
    "version": 3
   },
   "file_extension": ".py",
   "mimetype": "text/x-python",
   "name": "python",
   "nbconvert_exporter": "python",
   "pygments_lexer": "ipython3",
   "version": "3.10.11"
  }
 },
 "nbformat": 4,
 "nbformat_minor": 0
}
