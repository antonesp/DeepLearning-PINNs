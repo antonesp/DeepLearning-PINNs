{
 "cells": [
  {
   "cell_type": "code",
   "execution_count": null,
   "metadata": {},
   "outputs": [],
   "source": [
    "import torch\n",
    "import torch.nn as nn\n",
    "import torch.nn.functional as F\n",
    "import torch.optim as optim\n",
    "import torch.nn.init as init\n",
    "import torch.autograd as autograd\n",
    "from torch.nn.parameter import Parameter\n"
   ]
  },
  {
   "cell_type": "code",
   "execution_count": null,
   "metadata": {},
   "outputs": [],
   "source": [
    "class PINN(nn.module):\n",
    "\n",
    "\n",
    "    def MVP():\n",
    "\n",
    "\n",
    "        # T\n",
    "\n",
    "        D1 = Parameter()\n",
    "        D2 = Parameter()\n",
    "\n",
    "        I_sc = Parameter()\n",
    "        I_p = Parameter()\n",
    "        I_eff = Parameter()\n",
    "\n",
    "        G = Parameter()\n",
    "        G_sc = Parameter()\n",
    "\n",
    "        # Patient Variables\n",
    "\n",
    "        tau_1 = 49 #; % min\n",
    "        tau_2 = 47 #; % min\n",
    "        C_I = 20.1 #; % dL/min\n",
    "        p_2 = 0.0106 #; % 1/min\n",
    "        GEZI = 0.0022 #; % 1/min\n",
    "        EGP_0 = 1.33 #; % mg/dl/min\n",
    "        V_G = 253 #; % dL\n",
    "        tau_m = 47 #; % min\n",
    "        tau_sc = 5 #; % min\n",
    "\n",
    "        # The secret unknown parameter\n",
    "        # S_I = 0.0081 #; % (dL/mU)/min\n",
    "\n",
    "\n",
    "\n",
    "        "
   ]
  }
 ],
 "metadata": {
  "kernelspec": {
   "display_name": "DeepLearningENV",
   "language": "python",
   "name": "python3"
  },
  "language_info": {
   "name": "python",
   "version": "3.10.11"
  }
 },
 "nbformat": 4,
 "nbformat_minor": 2
}
