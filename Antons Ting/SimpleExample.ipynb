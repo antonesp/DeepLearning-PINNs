{
 "cells": [
  {
   "cell_type": "code",
   "execution_count": 14,
   "metadata": {},
   "outputs": [
    {
     "name": "stdout",
     "output_type": "stream",
     "text": [
      "cpu\n"
     ]
    }
   ],
   "source": [
    "\n",
    "import torch\n",
    "import torch.autograd as autograd         # computation graph\n",
    "from torch import Tensor                  # tensor node in the computation graph\n",
    "import torch.nn as nn                     # neural networks\n",
    "import torch.optim as optim               # optimizers e.g. gradient descent, ADAM, etc.\n",
    "\n",
    "import matplotlib.pyplot as plt\n",
    "import matplotlib.gridspec as gridspec\n",
    "from mpl_toolkits.axes_grid1 import make_axes_locatable\n",
    "from mpl_toolkits.mplot3d import Axes3D\n",
    "import matplotlib.ticker\n",
    "from sklearn.model_selection import train_test_split\n",
    "\n",
    "import numpy as np\n",
    "import time\n",
    "from pyDOE import lhs         #Latin Hypercube Sampling\n",
    "import scipy.io\n",
    "\n",
    "\n",
    "device = torch.device('cuda' if torch.cuda.is_available() else 'cpu')\n",
    "\n",
    "print(device)\n",
    "\n",
    "if device == 'cuda': \n",
    "    print(torch.cuda.get_device_name()) "
   ]
  },
  {
   "cell_type": "code",
   "execution_count": 15,
   "metadata": {},
   "outputs": [],
   "source": [
    "## Paramaters\n",
    "steps=50000\n",
    "lr=1e-3\n",
    "total_points=500\n",
    "min=1\n",
    "max=3\n",
    "a_true = 2\n",
    "\n",
    "Nu=2\n",
    "Nf=250\n",
    "layers = np.array([1,50,50,20,50,50,1]) #5 hidden layers\n",
    "\n",
    "def f_BC(t):\n",
    " return torch.exp(a_true *t)"
   ]
  },
  {
   "cell_type": "code",
   "execution_count": 17,
   "metadata": {},
   "outputs": [],
   "source": [
    "# Parameters for equation\n",
    "\n",
    "def grad(function,var):\n",
    "    return autograd.grad(function, var, grad_outputs=torch.ones_like(function), create_graph=True)[0]\n",
    "\n",
    "\n",
    "\n",
    "class PINN(nn.Module):\n",
    "\n",
    "    def __init__(self):\n",
    "        super(PINN, self).__init__()\n",
    "\n",
    "        \n",
    "\n",
    "        # self.input = nn.Linear(1, 20)\n",
    "        # self.hidden = nn.Linear(20, 20)\n",
    "        # self.out = nn.Linear(20, 1)\n",
    "\n",
    "        self.activation = nn.Tanh()\n",
    "        self.linears = nn.ModuleList([nn.Linear(layers[i], layers[i+1]) for i in range(len(layers)-1)]) \n",
    "        self.iter = 0\n",
    "\n",
    "        # training\n",
    "\n",
    "    def forward(self, x):\n",
    "        if torch.is_tensor(x) != True:         \n",
    "            x = torch.from_numpy(x)                \n",
    "        layer = x.float()\n",
    "        for i in range(len(layers)-2):  \n",
    "            z = self.linears[i](layer)              \n",
    "            layer = self.activation(z)    \n",
    "        layer = self.linears[-1](layer)\n",
    "        return layer\n",
    "        # if torch.is_tensor(x) != True:         \n",
    "        #     x = torch.from_numpy(x)                \n",
    "        # a = x.float()\n",
    "        # x = self.hidden(x)\n",
    "        # x = self.activation(x)\n",
    "\n",
    "        # x = self.hidden(x)\n",
    "        # x = self.activation(x)\n",
    "\n",
    "\n",
    "        # x = self.out(x)\n",
    "        # return x\n",
    "\n",
    "    # We are using a simple exponential equation to test the PINN\n",
    "\n",
    "    def LossBC(self,x_BC):\n",
    "        loss_bc = torch.mean((self.forward(x_BC) - f_BC(x_BC))**2)\n",
    "        return loss_bc\n",
    "\n",
    "    def LossPDE(self,t):\n",
    "\n",
    "        temp = t.clone()\n",
    "        temp.requires_grad = True\n",
    "\n",
    "        u = self.forward(temp)\n",
    "        u_t = autograd.grad(u,temp,grad_outputs=torch.ones_like(u),create_graph=True)[0]\n",
    "        # u_t = grad(u,t)\n",
    "\n",
    "        eq1 = u_t - a_true*u\n",
    "        # print(\"eq1 data type: \",type(eq1))\n",
    "        loss_PDE = torch.mean(eq1**2)\n",
    "        return loss_PDE\n",
    "        \n",
    "    def LossComb(self,t,x_BC):\n",
    "        loss_bc = self.LossBC(x_BC)\n",
    "        loss_pde = self.LossPDE(t)\n",
    "\n",
    "        # print(\"bc data type: \",type(loss_bc))\n",
    "        # print(\"pde data type: \",type(loss_pde))\n",
    "        \n",
    "        return loss_bc + loss_pde\n",
    "\n",
    "    def closure(self):\n",
    "        \n",
    "        optimizer.zero_grad()\n",
    "        \n",
    "        loss = self.Loss_Comb(x_train, y_train)\n",
    "        \n",
    "        loss.backward()\n",
    "                \n",
    "        self.iter += 1\n",
    "        \n",
    "        if self.iter % 100 == 0:\n",
    "        \n",
    "            print(loss)\n",
    "\n",
    "        return loss   \n",
    "     \n",
    "\n",
    "pinn = PINN()"
   ]
  },
  {
   "cell_type": "code",
   "execution_count": 18,
   "metadata": {},
   "outputs": [
    {
     "name": "stdout",
     "output_type": "stream",
     "text": [
      "torch.Size([500, 1]) torch.Size([500, 1])\n"
     ]
    }
   ],
   "source": [
    "## Generate the data\n",
    "x = torch.linspace(min,max,total_points).view(-1,1) #prepare to NN\n",
    "y = f_BC(x)\n",
    "print(x.shape, y.shape)\n"
   ]
  },
  {
   "cell_type": "code",
   "execution_count": 19,
   "metadata": {},
   "outputs": [
    {
     "data": {
      "text/plain": [
       "<matplotlib.legend.Legend at 0x14b73371540>"
      ]
     },
     "execution_count": 19,
     "metadata": {},
     "output_type": "execute_result"
    },
    {
     "data": {
      "image/png": "[encoded data removed]",
      "text/plain": [
       "<Figure size 640x480 with 1 Axes>"
      ]
     },
     "metadata": {},
     "output_type": "display_data"
    }
   ],
   "source": [
    "fig, ax1 = plt.subplots()\n",
    "ax1.plot(x.detach().numpy(),y.detach().numpy(),color='blue',label='Real_Train')\n",
    "#ax1.plot(x_train.detach().numpy(),yh.detach().numpy(),color='red',label='Pred_Train')\n",
    "ax1.set_xlabel('x',color='black')\n",
    "ax1.set_ylabel('f(x)',color='black')\n",
    "ax1.tick_params(axis='y', color='black')\n",
    "ax1.legend(loc = 'upper left')"
   ]
  },
  {
   "cell_type": "code",
   "execution_count": 20,
   "metadata": {},
   "outputs": [
    {
     "name": "stderr",
     "output_type": "stream",
     "text": [
      "C:\\Users\\anton\\AppData\\Local\\Temp\\ipykernel_27096\\601207811.py:13: DeprecationWarning: __array_wrap__ must accept context and return_scalar arguments (positionally) in the future. (Deprecated NumPy 2.0)\n",
      "  x_PDE = BC_1 + (BC_2-BC_1)*lhs(1,Nf)\n"
     ]
    },
    {
     "data": {
      "text/plain": [
       "torch.Size([252, 1])"
      ]
     },
     "execution_count": 20,
     "metadata": {},
     "output_type": "execute_result"
    }
   ],
   "source": [
    "#def get_training_data(x):\n",
    "#Nu: Number of training point, # Nf: Number of colloction points\n",
    "# Set Boundary conditions:\n",
    "BC_1=x[0,:]\n",
    "BC_2=x[-1,:]\n",
    "# Total Training points BC1+BC2\n",
    "all_train=torch.vstack([BC_1,BC_2])\n",
    "#Select Nu points\n",
    "idx = np.random.choice(all_train.shape[0], Nu, replace=False) \n",
    "x_BC=all_train[idx]\n",
    "#Select Nf points\n",
    "# Latin Hypercube sampling for collocation points \n",
    "x_PDE = BC_1 + (BC_2-BC_1)*lhs(1,Nf)\n",
    "x_PDE = torch.vstack((x_PDE,x_BC)) \n",
    "\n",
    "x_PDE.shape"
   ]
  },
  {
   "cell_type": "code",
   "execution_count": 12,
   "metadata": {},
   "outputs": [
    {
     "name": "stdout",
     "output_type": "stream",
     "text": [
      "PINN(\n",
      "  (activation): Tanh()\n",
      "  (linears): ModuleList(\n",
      "    (0): Linear(in_features=1, out_features=50, bias=True)\n",
      "    (1): Linear(in_features=50, out_features=50, bias=True)\n",
      "    (2): Linear(in_features=50, out_features=20, bias=True)\n",
      "    (3): Linear(in_features=20, out_features=50, bias=True)\n",
      "    (4): Linear(in_features=50, out_features=50, bias=True)\n",
      "    (5): Linear(in_features=50, out_features=1, bias=True)\n",
      "  )\n",
      ")\n"
     ]
    }
   ],
   "source": [
    "#Store tensors to GPU\n",
    "torch.manual_seed(123)\n",
    "x_PDE=x_PDE.float().to(device)\n",
    "x_BC=x_BC.to(device)\n",
    "#Create Model\n",
    "model = PINN()\n",
    "print(model)\n",
    "model.to(device)\n",
    "params = list(model.parameters())\n",
    "optimizer = torch.optim.Adam(model.parameters(),lr=lr,amsgrad=False)\n",
    "start_time = time.time()"
   ]
  },
  {
   "cell_type": "code",
   "execution_count": 13,
   "metadata": {},
   "outputs": [
    {
     "name": "stdout",
     "output_type": "stream",
     "text": [
      "tensor(81472.1094, grad_fn=<AddBackward0>)\n",
      "tensor(13930.5908, grad_fn=<AddBackward0>)\n",
      "tensor(97.2485, grad_fn=<AddBackward0>)\n",
      "tensor(0.0918, grad_fn=<AddBackward0>)\n"
     ]
    },
    {
     "ename": "KeyboardInterrupt",
     "evalue": "",
     "output_type": "error",
     "traceback": [
      "\u001b[1;31m---------------------------------------------------------------------------\u001b[0m",
      "\u001b[1;31mKeyboardInterrupt\u001b[0m                         Traceback (most recent call last)",
      "Cell \u001b[1;32mIn[13], line 5\u001b[0m\n\u001b[0;32m      3\u001b[0m loss \u001b[38;5;241m=\u001b[39m model\u001b[38;5;241m.\u001b[39mLossComb(x_PDE,x_BC)\u001b[38;5;66;03m# use mean squared error\u001b[39;00m\n\u001b[0;32m      4\u001b[0m optimizer\u001b[38;5;241m.\u001b[39mzero_grad()\n\u001b[1;32m----> 5\u001b[0m \u001b[43mloss\u001b[49m\u001b[38;5;241;43m.\u001b[39;49m\u001b[43mbackward\u001b[49m\u001b[43m(\u001b[49m\u001b[43m)\u001b[49m\n\u001b[0;32m      6\u001b[0m optimizer\u001b[38;5;241m.\u001b[39mstep()\n\u001b[0;32m      7\u001b[0m \u001b[38;5;28;01mif\u001b[39;00m i\u001b[38;5;241m%\u001b[39m(steps\u001b[38;5;241m/\u001b[39m\u001b[38;5;241m10\u001b[39m)\u001b[38;5;241m==\u001b[39m\u001b[38;5;241m0\u001b[39m:\n",
      "File \u001b[1;32mc:\\Users\\anton\\OneDrive\\Noter\\Deep Learning\\Projekt\\DeepLearning-PINNs\\DeepLearning-PINNs\\DeepLearningENV\\lib\\site-packages\\torch\\_tensor.py:581\u001b[0m, in \u001b[0;36mTensor.backward\u001b[1;34m(self, gradient, retain_graph, create_graph, inputs)\u001b[0m\n\u001b[0;32m    571\u001b[0m \u001b[38;5;28;01mif\u001b[39;00m has_torch_function_unary(\u001b[38;5;28mself\u001b[39m):\n\u001b[0;32m    572\u001b[0m     \u001b[38;5;28;01mreturn\u001b[39;00m handle_torch_function(\n\u001b[0;32m    573\u001b[0m         Tensor\u001b[38;5;241m.\u001b[39mbackward,\n\u001b[0;32m    574\u001b[0m         (\u001b[38;5;28mself\u001b[39m,),\n\u001b[1;32m   (...)\u001b[0m\n\u001b[0;32m    579\u001b[0m         inputs\u001b[38;5;241m=\u001b[39minputs,\n\u001b[0;32m    580\u001b[0m     )\n\u001b[1;32m--> 581\u001b[0m \u001b[43mtorch\u001b[49m\u001b[38;5;241;43m.\u001b[39;49m\u001b[43mautograd\u001b[49m\u001b[38;5;241;43m.\u001b[39;49m\u001b[43mbackward\u001b[49m\u001b[43m(\u001b[49m\n\u001b[0;32m    582\u001b[0m \u001b[43m    \u001b[49m\u001b[38;5;28;43mself\u001b[39;49m\u001b[43m,\u001b[49m\u001b[43m \u001b[49m\u001b[43mgradient\u001b[49m\u001b[43m,\u001b[49m\u001b[43m \u001b[49m\u001b[43mretain_graph\u001b[49m\u001b[43m,\u001b[49m\u001b[43m \u001b[49m\u001b[43mcreate_graph\u001b[49m\u001b[43m,\u001b[49m\u001b[43m \u001b[49m\u001b[43minputs\u001b[49m\u001b[38;5;241;43m=\u001b[39;49m\u001b[43minputs\u001b[49m\n\u001b[0;32m    583\u001b[0m \u001b[43m\u001b[49m\u001b[43m)\u001b[49m\n",
      "File \u001b[1;32mc:\\Users\\anton\\OneDrive\\Noter\\Deep Learning\\Projekt\\DeepLearning-PINNs\\DeepLearning-PINNs\\DeepLearningENV\\lib\\site-packages\\torch\\autograd\\__init__.py:347\u001b[0m, in \u001b[0;36mbackward\u001b[1;34m(tensors, grad_tensors, retain_graph, create_graph, grad_variables, inputs)\u001b[0m\n\u001b[0;32m    342\u001b[0m     retain_graph \u001b[38;5;241m=\u001b[39m create_graph\n\u001b[0;32m    344\u001b[0m \u001b[38;5;66;03m# The reason we repeat the same comment below is that\u001b[39;00m\n\u001b[0;32m    345\u001b[0m \u001b[38;5;66;03m# some Python versions print out the first line of a multi-line function\u001b[39;00m\n\u001b[0;32m    346\u001b[0m \u001b[38;5;66;03m# calls in the traceback and some print out the last line\u001b[39;00m\n\u001b[1;32m--> 347\u001b[0m \u001b[43m_engine_run_backward\u001b[49m\u001b[43m(\u001b[49m\n\u001b[0;32m    348\u001b[0m \u001b[43m    \u001b[49m\u001b[43mtensors\u001b[49m\u001b[43m,\u001b[49m\n\u001b[0;32m    349\u001b[0m \u001b[43m    \u001b[49m\u001b[43mgrad_tensors_\u001b[49m\u001b[43m,\u001b[49m\n\u001b[0;32m    350\u001b[0m \u001b[43m    \u001b[49m\u001b[43mretain_graph\u001b[49m\u001b[43m,\u001b[49m\n\u001b[0;32m    351\u001b[0m \u001b[43m    \u001b[49m\u001b[43mcreate_graph\u001b[49m\u001b[43m,\u001b[49m\n\u001b[0;32m    352\u001b[0m \u001b[43m    \u001b[49m\u001b[43minputs\u001b[49m\u001b[43m,\u001b[49m\n\u001b[0;32m    353\u001b[0m \u001b[43m    \u001b[49m\u001b[43mallow_unreachable\u001b[49m\u001b[38;5;241;43m=\u001b[39;49m\u001b[38;5;28;43;01mTrue\u001b[39;49;00m\u001b[43m,\u001b[49m\n\u001b[0;32m    354\u001b[0m \u001b[43m    \u001b[49m\u001b[43maccumulate_grad\u001b[49m\u001b[38;5;241;43m=\u001b[39;49m\u001b[38;5;28;43;01mTrue\u001b[39;49;00m\u001b[43m,\u001b[49m\n\u001b[0;32m    355\u001b[0m \u001b[43m\u001b[49m\u001b[43m)\u001b[49m\n",
      "File \u001b[1;32mc:\\Users\\anton\\OneDrive\\Noter\\Deep Learning\\Projekt\\DeepLearning-PINNs\\DeepLearning-PINNs\\DeepLearningENV\\lib\\site-packages\\torch\\autograd\\graph.py:825\u001b[0m, in \u001b[0;36m_engine_run_backward\u001b[1;34m(t_outputs, *args, **kwargs)\u001b[0m\n\u001b[0;32m    823\u001b[0m     unregister_hooks \u001b[38;5;241m=\u001b[39m _register_logging_hooks_on_whole_graph(t_outputs)\n\u001b[0;32m    824\u001b[0m \u001b[38;5;28;01mtry\u001b[39;00m:\n\u001b[1;32m--> 825\u001b[0m     \u001b[38;5;28;01mreturn\u001b[39;00m Variable\u001b[38;5;241m.\u001b[39m_execution_engine\u001b[38;5;241m.\u001b[39mrun_backward(  \u001b[38;5;66;03m# Calls into the C++ engine to run the backward pass\u001b[39;00m\n\u001b[0;32m    826\u001b[0m         t_outputs, \u001b[38;5;241m*\u001b[39margs, \u001b[38;5;241m*\u001b[39m\u001b[38;5;241m*\u001b[39mkwargs\n\u001b[0;32m    827\u001b[0m     )  \u001b[38;5;66;03m# Calls into the C++ engine to run the backward pass\u001b[39;00m\n\u001b[0;32m    828\u001b[0m \u001b[38;5;28;01mfinally\u001b[39;00m:\n\u001b[0;32m    829\u001b[0m     \u001b[38;5;28;01mif\u001b[39;00m attach_logging_hooks:\n",
      "\u001b[1;31mKeyboardInterrupt\u001b[0m: "
     ]
    }
   ],
   "source": [
    "for i in range(steps):\n",
    "    yh = model(x_PDE)\n",
    "    loss = model.LossComb(x_PDE,x_BC)# use mean squared error\n",
    "    optimizer.zero_grad()\n",
    "    loss.backward()\n",
    "    optimizer.step()\n",
    "    if i%(steps/10)==0:\n",
    "      print(loss)"
   ]
  },
  {
   "cell_type": "code",
   "execution_count": 142,
   "metadata": {},
   "outputs": [
    {
     "name": "stdout",
     "output_type": "stream",
     "text": [
      "tensor(0.0590, grad_fn=<MeanBackward0>)\n"
     ]
    }
   ],
   "source": [
    "yh=model(x.to(device))\n",
    "y=f_BC(x)\n",
    "#Error\n",
    "print(model.LossBC(x.to(device)))"
   ]
  },
  {
   "cell_type": "code",
   "execution_count": 143,
   "metadata": {},
   "outputs": [],
   "source": [
    "# Derivative\n",
    "g=x.to(device)\n",
    "g=g.clone()\n",
    "g.requires_grad=True #Enable differentiation\n",
    "f=model(g)\n",
    "f_x=autograd.grad(f,g,torch.ones([g.shape[0],1]).to(device),retain_graph=True, create_graph=True)[0]"
   ]
  },
  {
   "cell_type": "code",
   "execution_count": 144,
   "metadata": {},
   "outputs": [],
   "source": [
    "y_plot=y.detach().numpy()\n",
    "yh_plot=yh.detach().cpu().numpy()\n",
    "f_x_plot=f_x.detach().cpu().numpy()\n"
   ]
  },
  {
   "cell_type": "code",
   "execution_count": 148,
   "metadata": {},
   "outputs": [
    {
     "data": {
      "text/plain": [
       "<matplotlib.legend.Legend at 0x1c4396cf7f0>"
      ]
     },
     "execution_count": 148,
     "metadata": {},
     "output_type": "execute_result"
    },
    {
     "data": {
      "image/png": "[encoded data removed]",
      "text/plain": [
       "<Figure size 640x480 with 1 Axes>"
      ]
     },
     "metadata": {},
     "output_type": "display_data"
    }
   ],
   "source": [
    "# Plot\n",
    "fig, ax1 = plt.subplots()\n",
    "ax1.plot(x,y_plot,color='blue',label='Real u(x)')\n",
    "ax1.plot(x,yh_plot,color='red',label='Predicted u(x)')\n",
    "ax1.plot(x,f_x_plot,color='green',label='Computed u\\'(x)')\n",
    "ax1.plot(x,y_plot-yh_plot,color='black',label='Error')\n",
    "ax1.set_xlabel('x',color='black')\n",
    "ax1.set_ylabel('f(x)',color='black')\n",
    "ax1.tick_params(axis='y', color='black')\n",
    "ax1.legend(loc = 'upper left')\n"
   ]
  }
 ],
 "metadata": {
  "kernelspec": {
   "display_name": "DeepLearningENV",
   "language": "python",
   "name": "python3"
  },
  "language_info": {
   "codemirror_mode": {
    "name": "ipython",
    "version": 3
   },
   "file_extension": ".py",
   "mimetype": "text/x-python",
   "name": "python",
   "nbconvert_exporter": "python",
   "pygments_lexer": "ipython3",
   "version": "3.10.11"
  }
 },
 "nbformat": 4,
 "nbformat_minor": 2
}
