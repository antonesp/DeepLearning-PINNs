{
 "cells": [
  {
   "cell_type": "code",
   "execution_count": 1,
   "metadata": {},
   "outputs": [],
   "source": [
    "import pandas as pd\n",
    "import torch\n",
    "import numpy as np\n",
    "\n",
    "# Now you can import the function\n",
    "from Load_data2 import custom_csv_parser\n",
    "# Use the function\n",
    "\n"
   ]
  },
  {
   "cell_type": "code",
   "execution_count": 2,
   "metadata": {},
   "outputs": [
    {
     "data": {
      "text/plain": [
       "dict_keys(['Meal_size', 'Steady_insulin', 'Bolus', 'D1', 'D2', 'I_sc', 'I_p', 'I_eff', 'G', 'G_sc'])"
      ]
     },
     "execution_count": 2,
     "metadata": {},
     "output_type": "execute_result"
    }
   ],
   "source": [
    "device = 'cpu'\n",
    "# Load data and pre-process\n",
    "data = custom_csv_parser('../Patient2.csv')\n",
    "n_data = len(data[\"G\"])\n",
    "\n",
    "# Split data into training and validation\n",
    "torch.manual_seed(42)\n",
    "\n",
    "indices = torch.randperm(n_data)\n",
    "\n",
    "n_train = int(n_data * 0.01)   # 1% training data\n",
    "\n",
    "train_indices = indices[:n_train]\n",
    "val_indices = indices[n_train:]\n",
    "\n",
    "# Define  \n",
    "T = 300\n",
    "num_train_col = 1000\n",
    "\n",
    "t_data = torch.linspace(0, T, n_data, device=device)\n",
    "t_train_data = t_data[train_indices].reshape(-1, 1)\n",
    "t_val_data = t_data[val_indices].reshape(-1, 1)\n",
    "\n",
    "# Split the data dictionary \n",
    "data_train = {}\n",
    "data_val = {}\n",
    "\n",
    "data.keys()\n",
    "\n",
    "# for key in data.keys():\n",
    "#     data_tensor = torch.tensor(data[key], device=device)  # Ensure data is a tensor\n",
    "#     range = max(data_tensor) - min(data_tensor)\n",
    "#     if range == 0:\n",
    "#         range = 1\n",
    "#     data_tensor = (data_tensor - min(data_tensor)) / range\n",
    "#     data_train[key] = data_tensor[train_indices]\n",
    "#     data_val[key] = data_tensor[val_indices]"
   ]
  },
  {
   "cell_type": "code",
   "execution_count": 3,
   "metadata": {},
   "outputs": [
    {
     "ename": "SyntaxError",
     "evalue": "expected argument value expression (3545227535.py, line 14)",
     "output_type": "error",
     "traceback": [
      "\u001b[1;36m  Cell \u001b[1;32mIn[3], line 14\u001b[1;36m\u001b[0m\n\u001b[1;33m    for i in range(Prediction.size(dim=)):\u001b[0m\n\u001b[1;37m                                   ^\u001b[0m\n\u001b[1;31mSyntaxError\u001b[0m\u001b[1;31m:\u001b[0m expected argument value expression\n"
     ]
    }
   ],
   "source": [
    "def normalization(dict: data) -> dict:\n",
    "    data_tensor = {}\n",
    "    for key in data.keys():\n",
    "        data_tensor[key] = torch.tensor(data[key], device=device)  # Ensure data is a tensor\n",
    "        data_range = max(data_tensor[key]) - min(data_tensor[key])\n",
    "        if data_range == 0:\n",
    "            data_range = 1\n",
    "        data_tensor[key] = (data_tensor[key] - min(data_tensor[key])) / data_range\n",
    "\n",
    "    return data_tensor\n",
    "\n",
    "def denormalization(Prediction: torch.Tensor, data_ref: dict) -> dict:\n",
    "    data_tensor = {}\n",
    "    for i in range(Prediction.size(dim=)):\n",
    "\n",
    "        data_tensor[key] = data_norm[key]  # Ensure data is a tensor\n",
    "        data_range = max(data_ref[key]) - min(data_ref[key])\n",
    "        if data_range == 0:\n",
    "            data_range = 1\n",
    "        data_tensor[key] = (data_norm[key] * data_range)  + min(data_ref[key])\n",
    "\n",
    "    return data_tensor\n",
    "\n",
    "\n",
    "df = normalization(data)\n",
    "\n",
    "df.keys()\n",
    "print(df[\"G\"])\n",
    "\n",
    "df = denormalization(df, data)\n",
    "df.keys()\n",
    "print(df[\"G\"])\n"
   ]
  },
  {
   "cell_type": "code",
   "execution_count": null,
   "metadata": {},
   "outputs": [
    {
     "name": "stdout",
     "output_type": "stream",
     "text": [
      "tensor([1542, 1823, 1884, 1051, 1478, 1900, 1366, 1305,  654, 1913, 1158, 1241,\n",
      "        2090, 2478,  565, 1927,  595, 2229,  615, 1678, 2109,  848,  465, 1831,\n",
      "        1091, 2613,  571,  171,  679, 2978])\n"
     ]
    },
    {
     "data": {
      "text/plain": [
       "tensor([[154.2514],\n",
       "        [182.3608],\n",
       "        [188.4628],\n",
       "        [105.1350],\n",
       "        [147.8493],\n",
       "        [190.0634],\n",
       "        [136.6456],\n",
       "        [130.5435],\n",
       "        [ 65.4218],\n",
       "        [191.3638],\n",
       "        [115.8386],\n",
       "        [124.1414],\n",
       "        [209.0697],\n",
       "        [247.8826],\n",
       "        [ 56.5188],\n",
       "        [192.7643],\n",
       "        [ 59.5198],\n",
       "        [222.9743],\n",
       "        [ 61.5205],\n",
       "        [167.8560],\n",
       "        [210.9703],\n",
       "        [ 84.8283],\n",
       "        [ 46.5155],\n",
       "        [183.1611],\n",
       "        [109.1364],\n",
       "        [261.3871],\n",
       "        [ 57.1190],\n",
       "        [ 17.1057],\n",
       "        [ 67.9226],\n",
       "        [297.8993]])"
      ]
     },
     "execution_count": 6,
     "metadata": {},
     "output_type": "execute_result"
    }
   ],
   "source": [
    "# Load data and pre-process\n",
    "data = custom_csv_parser('../Patient2.csv')\n",
    "n_data = len(data[\"G\"])\n",
    "\n",
    "# Split data into training and validation\n",
    "torch.manual_seed(42)\n",
    "\n",
    "indices = torch.randperm(n_data)\n",
    "# Use sequential indices for training and validation\n",
    "# train_indices = torch.arange(0, n_train)\n",
    "# val_indices = torch.arange(n_train, n_data)\n",
    "\n",
    "n_train = int(n_data * 0.01)   # 80% training data\n",
    "\n",
    "train_indices = indices[:n_train]\n",
    "val_indices = indices[n_train:]\n",
    "\n",
    "# Define  \n",
    "T = 300\n",
    "\n",
    "t_data = torch.linspace(0, T, n_data, device=device)\n",
    "t_train_data = t_data[train_indices].reshape(-1, 1)\n",
    "t_val_data = t_data[val_indices].reshape(-1, 1)"
   ]
  }
 ],
 "metadata": {
  "kernelspec": {
   "display_name": "Python 3",
   "language": "python",
   "name": "python3"
  },
  "language_info": {
   "codemirror_mode": {
    "name": "ipython",
    "version": 3
   },
   "file_extension": ".py",
   "mimetype": "text/x-python",
   "name": "python",
   "nbconvert_exporter": "python",
   "pygments_lexer": "ipython3",
   "version": "3.10.9"
  }
 },
 "nbformat": 4,
 "nbformat_minor": 2
}
