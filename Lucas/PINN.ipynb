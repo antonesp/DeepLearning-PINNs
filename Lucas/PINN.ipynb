{
 "cells": [
  {
   "cell_type": "code",
   "execution_count": 1,
   "metadata": {},
   "outputs": [
    {
     "name": "stdout",
     "output_type": "stream",
     "text": [
      "cpu\n"
     ]
    }
   ],
   "source": [
    "import torch\n",
    "import torch.autograd as autograd\n",
    "import torch.nn as nn\n",
    "from torch import Tensor\n",
    "import torch.optim as optim\n",
    "\n",
    "\n",
    "import matplotlib.pyplot as plt\n",
    "import matplotlib.gridspec as gridspec\n",
    "from mpl_toolkits.axes_grid1 import make_axes_locatable\n",
    "from mpl_toolkits.mplot3d import Axes3D\n",
    "import matplotlib.ticker\n",
    "from sklearn.model_selection import train_test_split\n",
    "\n",
    "import numpy as np\n",
    "import time\n",
    "import scipy.io\n",
    "\n",
    "torch.set_default_dtype(torch.float)\n",
    "\n",
    "# Random number generators in other libraries\n",
    "np.random.seed(28)\n",
    "\n",
    "# Device configuration\n",
    "device = torch.device('cuda' if torch.cuda.is_available() else 'cpu')\n",
    "\n",
    "print(device)\n",
    "\n",
    "if device == 'cuda': \n",
    "    print(torch.cuda.get_device_name()) "
   ]
  },
  {
   "cell_type": "code",
   "execution_count": null,
   "metadata": {},
   "outputs": [
    {
     "name": "stdout",
     "output_type": "stream",
     "text": [
      "c:\\DeepLearning-PINNs\\Lucas\n",
      "Training data loaded successfully!\n",
      "torch.Size([450, 7])\n",
      "torch.Size([2550, 7])\n"
     ]
    }
   ],
   "source": [
    "# Lucas/this_script.py\n",
    "import sys\n",
    "import os\n",
    "current_dir = os.getcwd()\n",
    "print(current_dir)\n",
    "# Add the 'functions' folder to the Python path\n",
    "functions_dir = os.path.join(current_dir,'..', 'functions')\n",
    "sys.path.append(functions_dir)\n",
    "functions_dir = os.path.join(current_dir,'..', 'Mads')\n",
    "sys.path.append(functions_dir)\n",
    "\n",
    "# Now you can import the function\n",
    "from Load_data import custom_csv_parser2, custom_csv_parser\n",
    "from Load_data import data_split\n",
    "\n",
    "pde_keys = ['D1', 'D2', 'I_sc','I_p', 'I_eff', 'G', 'G_sc']\n",
    "patient_keys = ['tau1', 'tau2', 'Ci', 'p2', 'GEZI', 'EGP0', 'Vg', 'taum', 'tausc']\n",
    "patient_keys_si = ['tau1', 'tau2', 'Ci', 'p2', 'Si', 'GEZI', 'EGP0', 'Vg', 'taum', 'tausc']\n",
    "\n",
    "def dict_to_vec(X, t):\n",
    "    t    = int(t)\n",
    "    X_vec = torch.tensor([X['D1'][t], X['D2'][t], X['I_sc'][t], X['I_p'][t], X['I_eff'][t], X['G'][t], X['G_sc'][t]], device=device, dtype=torch.float32)\n",
    "\n",
    "    return X_vec.to(device).reshape(1, -1)\n",
    "\n",
    "scale_vec = torch.tensor([1.56, 1.54, 1.24, 1.24, 0.01, 117.56, 117.48], device=device, dtype=torch.float32)\n",
    "# Use the function\n",
    "data = custom_csv_parser2('../Patient2.csv')\n",
    "parms = custom_csv_parser('../Patient.csv')\n",
    "\n",
    "print(data['t'])\n",
    "Si_true = parms['Si']\n",
    "\n",
    "X_train, X_test, ts_train, ts_test, ts = data_split(data)\n",
    "G_true = X_train[\"G\"]\n",
    "ts_train = torch.tensor([i for i in range(len(ts_train))], device=device)\n",
    "ts_test = torch.tensor([i for i in range(len(ts_test))], device=device)\n",
    "X_train_arr = torch.cat([dict_to_vec(X_train, t) for t in ts_train], dim=0)\n",
    "X_test_arr = torch.cat([dict_to_vec(X_test, t) for t in ts_test], dim=0)\n",
    "\n",
    "print(X_train_arr.shape)\n",
    "print(X_test_arr.shape)"
   ]
  },
  {
   "cell_type": "markdown",
   "metadata": {},
   "source": [
    "# Hyperparamters"
   ]
  },
  {
   "cell_type": "code",
   "execution_count": 3,
   "metadata": {},
   "outputs": [],
   "source": [
    "p = 0.0"
   ]
  },
  {
   "cell_type": "code",
   "execution_count": 48,
   "metadata": {},
   "outputs": [],
   "source": [
    "class DNN(nn.Module):\n",
    "    '''Network'''\n",
    "    def __init__(self, layers):\n",
    "        super(DNN, self).__init__()\n",
    "\n",
    "        self.linears = nn.ModuleList([nn.Linear(layers[i], layers[i+1] ) for i in range(len(layers)-1)])\n",
    "\n",
    "        self.activation = nn.Tanh()\n",
    "\n",
    "        self.dropout = nn.Dropout(p=p)\n",
    "\n",
    "        'Initialization'\n",
    "        for i in range(len(layers) - 1):\n",
    "            nn.init.xavier_normal_(self.linears[i].weight, gain=1.0)\n",
    "            nn.init.zeros_(self.linears[i].bias)\n",
    "\n",
    "    def forward(self, x):\n",
    "        for i in range(0, len(self.linears) - 1):\n",
    "            x = self.linears[i](x)\n",
    "            x = self.activation(x)\n",
    "            x = self.dropout(x)\n",
    "        x = self.linears[-1](x)\n",
    "        return x"
   ]
  },
  {
   "cell_type": "code",
   "execution_count": 68,
   "metadata": {},
   "outputs": [],
   "source": [
    "def pdes(u, nn_dt, ts):\n",
    "    pdes = torch.zeros_like(u, device=device)\n",
    "    D1 = u[:, 0]  \n",
    "    D2 = u[:, 1]  \n",
    "    I_sc = u[:, 2]  \n",
    "    I_p = u[:, 3]  \n",
    "    I_eff = u[:, 4]  \n",
    "    G = u[:, 5]  \n",
    "    G_sc = u[:, 6]  \n",
    "    \n",
    "    # Convert parameters to tensors\n",
    "    taum = torch.tensor(parms['taum'], device=device)\n",
    "    tau1 = torch.tensor(parms['tau1'], device=device)\n",
    "    tau2 = torch.tensor(parms['tau2'], device=device)\n",
    "    p2 = torch.tensor(parms['p2'], device=device)\n",
    "    Ci = torch.tensor(parms['Ci'], device=device)\n",
    "    GEZI = torch.tensor(parms['GEZI'], device=device)\n",
    "    EGP0 = torch.tensor(parms['EGP0'], device=device)\n",
    "    Vg = torch.tensor(parms['Vg'], device=device)\n",
    "    tausc = torch.tensor(parms['tausc'], device=device)\n",
    "\n",
    "    ds = torch.zeros_like(u[:,0], device=device)\n",
    "    us = torch.ones_like(u[:,0], device=device) * 25.04\n",
    "    zero_indices = (ts == 0).nonzero(as_tuple=True)[0]\n",
    "    us[zero_indices] = data['Insulin'][0]\n",
    "    ds[zero_indices] = data['Meal'][0]\n",
    "    \n",
    "    # Example assignment for all rows of pdes\n",
    "    pdes[:, 0] = nn_dt[:, 0] + D1 / taum - ds\n",
    "    pdes[:, 1] = nn_dt[:, 1] - (D1 - D2) / taum\n",
    "    pdes[:, 2] = nn_dt[:, 2] + I_sc / tau1 - us / (tau1 * Ci)\n",
    "    pdes[:, 3] = nn_dt[:, 3] - (I_sc - I_p) / tau2\n",
    "    pdes[:, 4] = nn_dt[:, 4] + p2 * I_eff - p2 * Si * I_p\n",
    "    pdes[:, 5] = nn_dt[:, 5] + (GEZI + I_eff) * G - EGP0 - 1000 * D2 / (Vg * taum)\n",
    "    pdes[:, 6] = nn_dt[:, 6] - (G - G_sc) / tausc\n",
    "\n",
    "    return pdes / scale_vec\n",
    "\n",
    "class PINN():\n",
    "    def __init__(self, layers):\n",
    "        self.iter = 0\n",
    "        self.nn = DNN(layers).to(device)\n",
    "\n",
    "    def data_loss(self, ts, data):\n",
    "        u = self.nn(ts)  # Outputs ts x 7 array\n",
    "        loss = u - data\n",
    "        return torch.mean(loss**2)\n",
    "\n",
    "\n",
    "    def pde_loss(self, ts):\n",
    "        \n",
    "        ts = ts.clone().detach()\n",
    "        ts = ts.requires_grad_(True)\n",
    "        u = self.nn(ts)        \n",
    "        nn_dt = torch.zeros_like(u, device=device)\n",
    "\n",
    "        for i in range(u.shape[1]):\n",
    "            nn_dt[:, i] = autograd.grad(u[:, i], ts, grad_outputs=torch.ones_like(u[:, i]), create_graph=True)[0].squeeze()\n",
    "\n",
    "        pd = pdes(u, nn_dt, ts)\n",
    "        loss = nn.MSELoss()(pd, torch.zeros_like(pd))\n",
    "        return loss\n",
    "    \n",
    "    def loss(self, ts, data):\n",
    "        l1 = self.data_loss(ts, data)\n",
    "        l2 = self.pde_loss(ts)\n",
    "        return l1 + 1000*l2, l1, 1000*l2\n",
    "    \n",
    "    def test(self, t):\n",
    "        #t = t.unsqueeze(0)\n",
    "        X_pred = self.nn.forward(t)\n",
    "        #X_true = dict_to_vec(data, t)\n",
    "        if len(t) == 450:\n",
    "            X_true = X_train_arr\n",
    "        else:\n",
    "            X_true = X_test_arr\n",
    "        error_vec = torch.linalg.norm((X_true-X_pred),2)/torch.linalg.norm(X_true,2)\n",
    "        X_pred = X_pred.cpu().detach().numpy()\n",
    "        return X_pred, error_vec\n"
   ]
  },
  {
   "cell_type": "code",
   "execution_count": 69,
   "metadata": {},
   "outputs": [
    {
     "name": "stdout",
     "output_type": "stream",
     "text": [
      "Prediction: [-0.11114587  0.07926288  0.25950044 -0.21131769 -0.38215518  0.6083616\n",
      " -0.12577266] \n",
      " Error: 0.9979588389396667\n",
      "Current guess for 0.0010000000474974513: \n"
     ]
    }
   ],
   "source": [
    "NN = PINN([1, 64, 128, 128, 7])\n",
    "Si0 = 0.001\n",
    "p = 0.0\n",
    "lr = 5e-4\n",
    "Si = torch.tensor([Si0], requires_grad=True, device=device)\n",
    "optimizer = optim.Adam(list(NN.nn.parameters()) + [Si], lr=lr)\n",
    "'''Test Network works'''\n",
    "pred, err = NN.test(torch.tensor([1], device=device, dtype=torch.float32))\n",
    "print(f\"\"\"Prediction: {pred} \\n Error: {err}\"\"\")\n",
    "print(f\"Current guess for {Si.item()}: \")\n"
   ]
  },
  {
   "cell_type": "code",
   "execution_count": 70,
   "metadata": {},
   "outputs": [
    {
     "name": "stderr",
     "output_type": "stream",
     "text": [
      "C:\\Users\\lucas\\AppData\\Local\\Temp\\ipykernel_17984\\3876922616.py:2: UserWarning: To copy construct from a tensor, it is recommended to use sourceTensor.clone().detach() or sourceTensor.clone().detach().requires_grad_(True), rather than torch.tensor(sourceTensor).\n",
      "  ts_train = torch.tensor(ts_train, device=device, dtype=torch.float32).reshape(-1,1)\n",
      "C:\\Users\\lucas\\AppData\\Local\\Temp\\ipykernel_17984\\3876922616.py:3: UserWarning: To copy construct from a tensor, it is recommended to use sourceTensor.clone().detach() or sourceTensor.clone().detach().requires_grad_(True), rather than torch.tensor(sourceTensor).\n",
      "  ts_test = torch.tensor(ts_test, device=device, dtype=torch.float32).reshape(-1,1)\n"
     ]
    },
    {
     "name": "stdout",
     "output_type": "stream",
     "text": [
      "0.0010000000474974513\n",
      "Epoch: 0, Data loss: 3896.4028, ODE loss: 2382.3477, Si: 0.00150\n",
      "Test Error: 0.99\n",
      "Epoch: 2000, Data loss: 78.3643, ODE loss: 5.6446, Si: 0.00664\n",
      "Test Error: 0.14\n",
      "Epoch: 4000, Data loss: 6.5362, ODE loss: 2.4753, Si: 0.00607\n",
      "Test Error: 0.04\n",
      "Epoch: 6000, Data loss: 3.2190, ODE loss: 1.0422, Si: 0.01022\n",
      "Test Error: 0.03\n",
      "Epoch: 8000, Data loss: 2.7995, ODE loss: 0.2317, Si: 0.00901\n",
      "Test Error: 0.03\n",
      "True Si:  0.0081\n"
     ]
    }
   ],
   "source": [
    "start_time = time.time()\n",
    "ts_train = torch.tensor(ts_train, device=device, dtype=torch.float32).reshape(-1,1)\n",
    "ts_test = torch.tensor(ts_test, device=device, dtype=torch.float32).reshape(-1,1)\n",
    "epochs = 10000\n",
    "NN.nn.train()\n",
    "for epoch in range(epochs):\n",
    "    optimizer.zero_grad()\n",
    "    loss, l1, l2 = NN.loss(ts_train, X_train_arr)\n",
    "    loss.backward()\n",
    "    optimizer.step()\n",
    "    if epoch % 2000 == 0:\n",
    "        print(f\"Epoch: {epoch}, Data loss: {l1.item():.4f}, ODE loss: {l2.item():.4f}, Si: {Si.item():.5f}\")\n",
    "        if epoch % 2000 == 0:\n",
    "            with torch.no_grad():\n",
    "                NN.nn.eval()\n",
    "                pred, err = NN.test(ts_test)\n",
    "                print(f\"Test Error: {err:.2f}\")\n",
    "            NN.nn.train()\n",
    "\n",
    "print(\"True Si: \", Si_true)\n",
    "\n",
    "\n"
   ]
  },
  {
   "cell_type": "code",
   "execution_count": 74,
   "metadata": {},
   "outputs": [
    {
     "name": "stdout",
     "output_type": "stream",
     "text": [
      "(2550, 1) (2550, 1)\n",
      "[[106.89072 ]\n",
      " [109.22811 ]\n",
      " [107.10928 ]\n",
      " ...\n",
      " [118.988976]\n",
      " [118.988976]\n",
      " [118.988976]]\n"
     ]
    },
    {
     "data": {
      "image/png": "[encoded data removed]",
      "text/plain": [
       "<Figure size 640x480 with 1 Axes>"
      ]
     },
     "metadata": {},
     "output_type": "display_data"
    }
   ],
   "source": [
    "NN.nn.eval()\n",
    "pred = NN.test(ts_test)\n",
    "\n",
    "G_pred = pred[0][:,5].reshape(-1,1)\n",
    "G_true = X_test_arr[:,5].reshape(-1,1)\n",
    "G_true_2 = X_train_arr[:,5].reshape(-1,1)\n",
    "ts_test_plot = ts_test.cpu().numpy()\n",
    "print(ts_test_plot.shape, G_pred.shape)\n",
    "plt.plot(ts_test_plot, G_pred, label='Predicted')\n",
    "plt.plot(ts_test_plot, G_true, label='True')\n",
    "plt.plot(ts_train.cpu().numpy(), G_true_2.cpu().numpy(), label='Train')\n",
    "plt.legend()\n",
    "print(G_pred)"
   ]
  },
  {
   "cell_type": "code",
   "execution_count": null,
   "metadata": {},
   "outputs": [
    {
     "name": "stdout",
     "output_type": "stream",
     "text": [
      "1.564036816889645\n",
      "1.5472147500856661\n",
      "1.2474305980382763\n",
      "1.247415539752733\n",
      "0.010104967942474905\n",
      "117.560994471807\n",
      "117.48980875234228\n"
     ]
    }
   ],
   "source": [
    "\n"
   ]
  },
  {
   "cell_type": "code",
   "execution_count": null,
   "metadata": {},
   "outputs": [],
   "source": []
  }
 ],
 "metadata": {
  "kernelspec": {
   "display_name": "Python 3",
   "language": "python",
   "name": "python3"
  },
  "language_info": {
   "codemirror_mode": {
    "name": "ipython",
    "version": 3
   },
   "file_extension": ".py",
   "mimetype": "text/x-python",
   "name": "python",
   "nbconvert_exporter": "python",
   "pygments_lexer": "ipython3",
   "version": "3.10.11"
  }
 },
 "nbformat": 4,
 "nbformat_minor": 2
}
